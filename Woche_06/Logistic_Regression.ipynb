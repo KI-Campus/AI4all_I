{
 "cells": [
  {
   "cell_type": "markdown",
   "metadata": {
    "pycharm": {
     "name": "#%% md\n"
    }
   },
   "source": [
    "# Logistische Regression mit Scikit-learn\n",
    "\n",
    "Eine logistische Regression modelliert die Beziehung zwischen den Werten “erklärender” Merkmale und den Werten eines kategorialen Zielmerkmals.\n",
    "\n",
    "Zuerst werden alle benötigten Module in das Programm importiert."
   ]
  },
  {
   "cell_type": "code",
   "execution_count": null,
   "metadata": {
    "pycharm": {
     "name": "#%%\n"
    }
   },
   "outputs": [],
   "source": [
    "# Importiere die nötigen Module\n",
    "from sklearn import linear_model, datasets, model_selection\n",
    "import plotly.express as px\n",
    "import plotly.offline as pyo\n",
    "import plotly.graph_objects as go"
   ]
  },
  {
   "cell_type": "markdown",
   "metadata": {
    "pycharm": {
     "name": "#%% md\n"
    }
   },
   "source": [
    "## Vorbereitung des Datensatzes\n",
    "\n",
    "Um die Funktionsweise der _logistischen Regression_ besser zeigen zu können, laden wir den <a href=\"https://archive.ics.uci.edu/ml/datasets/Breast+Cancer+Wisconsin+(Diagnostic)\">_Breast Cancer Wisconsin (Diagnostic)_</a> Datensatz mit der Funktion <a href=\"https://scikit-learn.org/stable/modules/generated/sklearn.datasets.load_breast_cancer.html\">_load_breast_cancer()_</a>. Die Merkmale dieses Datensatzes beschreiben einige Eigenschaften der Zellkerne in digitalisierten Bildern von der Feinnadelaspiration der Brustmasse. Die Werte des Zielmerkmals geben an, ob der Tumor gutartig (_benign_) oder bösartig (_malignant_) ist. Dabei steht die Merkmalsausprägung 1 für einen gutartigen und 0 für einen bösartigen Tumor."
   ]
  },
  {
   "cell_type": "code",
   "execution_count": null,
   "metadata": {
    "pycharm": {
     "name": "#%%\n"
    }
   },
   "outputs": [],
   "source": [
    "# Lade den Datensatz \"Breast Cancer Wisconsin (Diagnostic)\"\n",
    "X_breast_cancer, y_breast_cancer = \\\n",
    "    datasets.load_breast_cancer(return_X_y=True)"
   ]
  },
  {
   "cell_type": "markdown",
   "metadata": {
    "pycharm": {
     "name": "#%% md\n"
    }
   },
   "source": [
    "Wir beschränken uns wieder auf die Betrachtung des ersten Merkmals, das dem Radius des Zellkerns entspricht, und visualisieren diesen in Abhängigkeit von dem Zielmerkmal."
   ]
  },
  {
   "cell_type": "code",
   "execution_count": null,
   "metadata": {
    "pycharm": {
     "name": "#%%\n"
    }
   },
   "outputs": [],
   "source": [
    "# Wähle nur die erste Spalte des Arrays X_breast_cancer\n",
    "X_breast_cancer = X_breast_cancer[:, 0]\n",
    "\n",
    "pyo.init_notebook_mode()\n",
    "fig1 = px.scatter(x=X_breast_cancer, y=y_breast_cancer)\n",
    "fig1.update_layout(xaxis_title='Radius des Zellkerns',\n",
    "                   yaxis_title='Wahrscheinlichkeit für '\n",
    "                               'den gutartigen Tumor')\n",
    "fig1.show()"
   ]
  },
  {
   "cell_type": "markdown",
   "metadata": {
    "pycharm": {
     "name": "#%% md\n"
    }
   },
   "source": [
    "Das Datenarray wird um eine Dimension erweitert und in eine Trainings- und eine Testmenge aufgeteilt."
   ]
  },
  {
   "cell_type": "code",
   "execution_count": null,
   "metadata": {
    "pycharm": {
     "name": "#%%\n"
    }
   },
   "outputs": [],
   "source": [
    "# Erweitere das Datenarray um eine Dimension\n",
    "X_breast_cancer = X_breast_cancer[:, None]\n",
    "print(X_breast_cancer.shape)\n",
    "\n",
    "# Zerlege den Datensatz in eine Training- und eine Testmenge\n",
    "X_train_bc, X_test_bc, y_train_bc, y_test_bc =\\\n",
    "    model_selection.train_test_split(X_breast_cancer,\n",
    "                                     y_breast_cancer,\n",
    "                                     test_size=0.1,\n",
    "                                     random_state = 45)"
   ]
  },
  {
   "cell_type": "markdown",
   "metadata": {
    "pycharm": {
     "name": "#%% md\n"
    }
   },
   "source": [
    "## Logistisches Regressionsmodell\n",
    "\n",
    "Das logistische Regressionsmodell wird mit der Funktion <a href=\"https://scikit-learn.org/stable/modules/generated/sklearn.linear_model.LogisticRegression.html\">_LogisticRegression()_</a> des _Scikit-learn_-Untermoduls _Linear Models_ erstellt. Mit dem Parameter _max\\_iter_ kann man die Anzahl der Iterationen beschränken, die der Optimierungsalgorithmus durchlaufen soll. Das Trainieren des Modells erfolgt wieder mit der Funktion _fit()_."
   ]
  },
  {
   "cell_type": "code",
   "execution_count": null,
   "metadata": {
    "pycharm": {
     "name": "#%%\n"
    }
   },
   "outputs": [],
   "source": [
    "# Erstelle ein logistisches Regressionsmodell\n",
    "log_reg = linear_model.LogisticRegression(max_iter = 1000)\n",
    "\n",
    "# Trainiere das Modell mit der Trainingsmenge\n",
    "log_reg.fit(X_train_bc, y_train_bc)"
   ]
  },
  {
   "cell_type": "markdown",
   "metadata": {
    "pycharm": {
     "name": "#%% md\n"
    }
   },
   "source": [
    "Die Wahrscheinlichkeitswerte für die Zugehörigkeit zu den beiden Ausprägungen des Zielmerkmals werden für die Testmenge mit der Funktion _predict\\_proba()_ vorhergesagt. Mit deren Hilfe kann die Regressionskurve andeutungsweise visualisiert werden."
   ]
  },
  {
   "cell_type": "code",
   "execution_count": null,
   "metadata": {
    "pycharm": {
     "name": "#%%\n"
    }
   },
   "outputs": [],
   "source": [
    "# Erstelle die Vorhersagen für die gesamte Testmenge\n",
    "y_pred_bc = log_reg.predict_proba(X_test_bc)"
   ]
  },
  {
   "cell_type": "markdown",
   "metadata": {
    "pycharm": {
     "name": "#%% md\n"
    }
   },
   "source": [
    "Um sehen zu können, wie gut unser Regressionsmodell die Wahrscheinlichkeiten der Zugehörigkeit der neuen Beobachtungen zu allen Ausprägungen des Zielmerkmals schätzen kann, geben wir exemplarisch für die erste Beobachtung der Testmenge den Radius des Zellkerns, die tatsächliche und die durch unser Modell geschätzten Wahrscheinlichkeiten aus, dass die entsprechende Zelle aus einem bösartigen bzw. einem gutartigen Tumor entnommen wurde."
   ]
  },
  {
   "cell_type": "code",
   "execution_count": null,
   "metadata": {
    "pycharm": {
     "name": "#%%\n"
    }
   },
   "outputs": [],
   "source": [
    "# Gebe den Wert des beschreibenden Merkmals für\n",
    "# die erste Beobachtung der Testmenge aus\n",
    "print(\"Der Radius des Zellkerns der ersten \"\n",
    "      \"Beobachtung aus der Testmenge:\", X_test_bc[0,0])\n",
    "\n",
    "# Gebe den tatsächlichen Wert des Zielmerkmals für\n",
    "# die erste Beobachtung der Testmenge aus\n",
    "print(\"Die tatsächliche Zugehörigkeit zu einem bösartigen \"\n",
    "      \"bzw. gutartigen Tumor der ersten Beobachtung \"\n",
    "      \"aus der Testmenge:\", y_test_bc[0])\n",
    "\n",
    "# Gebe die geschätzten Wahrscheinlichkeiten der Zugehörigkeit\n",
    "# der ersten Beobachtung aus der Testmenge zu allen\n",
    "# Ausprägungen des Zielmerkmals aus\n",
    "print(\"Die geschätzten Wahrscheinlichkeiten der Zugehörigkeit \"\n",
    "      \"der ersten Beobachtung aus der Testmenge zu einem bösartigen \"\n",
    "      \"bzw. gutartigen Tumor:\", y_pred_bc[0])"
   ]
  },
  {
   "cell_type": "markdown",
   "metadata": {
    "pycharm": {
     "name": "#%% md\n"
    }
   },
   "source": [
    "Die Regressionskurve wird andeutungsweise anhand der Zugehörigkeitswerte zu der Ausprägung „gutsartig“ grafisch dargestellt."
   ]
  },
  {
   "cell_type": "code",
   "execution_count": null,
   "metadata": {
    "pycharm": {
     "name": "#%%\n"
    }
   },
   "outputs": [],
   "source": [
    "fig2 = px.scatter(x=X_test_bc[:,0], y=y_pred_bc[:,1],\n",
    "                  color_discrete_sequence=['red'])\n",
    "fig3 = go.Figure(data=fig1.data + fig2.data)\n",
    "fig3.update_layout(xaxis_title='Radius des Zellkerns',\n",
    "                   yaxis_title='Wahrscheinlichkeit für '\n",
    "                               'den gutartigen Tumor')\n",
    "fig3.show()"
   ]
  }
 ],
 "metadata": {
  "hide_input": false,
  "kernelspec": {
   "display_name": "Python (AI4all_I)",
   "language": "python",
   "name": "python-ai4all_i"
  },
  "language_info": {
   "codemirror_mode": {
    "name": "ipython",
    "version": 3
   },
   "file_extension": ".py",
   "mimetype": "text/x-python",
   "name": "python",
   "nbconvert_exporter": "python",
   "pygments_lexer": "ipython3",
   "version": "3.10.9"
  },
  "toc": {
   "base_numbering": 1,
   "nav_menu": {},
   "number_sections": true,
   "sideBar": true,
   "skip_h1_title": false,
   "title_cell": "Table of Contents",
   "title_sidebar": "Contents",
   "toc_cell": false,
   "toc_position": {},
   "toc_section_display": true,
   "toc_window_display": false
  }
 },
 "nbformat": 4,
 "nbformat_minor": 1
}
