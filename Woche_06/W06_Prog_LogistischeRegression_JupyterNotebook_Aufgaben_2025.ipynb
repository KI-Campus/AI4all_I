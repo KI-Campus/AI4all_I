{
 "cells": [
  {
   "cell_type": "markdown",
   "id": "f2a200bb26afc09c",
   "metadata": {},
   "source": [
    "# Aufgabe (_Logistische Regression_)\n",
    "\n",
    "Die _ndarrays_ _X\\_train_, _X\\_test_, _y\\_train_ und _y\\_test_ repräsentieren eine mögliche Zerlegung in eine Trainings- und eine Testmenge des Datensatzes aus _Aufgabe 1_.\n",
    "\n",
    "* a) Erstelle ein logistisches Regressionsmodell und trainiere die Trainingsmenge damit.\n",
    "* b) Prognostiziere mit dem trainierten logistischen Regressionsmodell den Therapieerfolg für die Beobachtung aus der Testmenge.\n",
    "\n",
    "Ergänze deine Anweisungen mit sinnvollen Kommentaren."
   ]
  },
  {
   "cell_type": "code",
   "execution_count": null,
   "id": "17c3da08739bfc3c",
   "metadata": {},
   "outputs": [],
   "source": [
    "import numpy as np\n",
    "from sklearn import linear_model\n",
    "\n",
    "X_train = np.array([[67, 1.87, 82], [35, 1.73, 56.3], [45, 1.82, 78.5]])\n",
    "X_test = np.array([[23, 1.95, 90.4]])\n",
    "y_train = np.array([1, 0, 1])\n",
    "y_test = np.array([0])\n",
    "\n",
    "# Hier kommt deine Lösung für Teilaufgabe a)\n",
    "\n",
    "\n",
    "\n",
    "# Hier kommt deine Lösung für Teilaufgabe b)\n",
    "\n"
   ]
  }
 ],
 "metadata": {
  "hide_input": false,
  "kernelspec": {
   "display_name": "Python (AI4all_I)",
   "language": "python",
   "name": "python-ai4all_i"
  },
  "language_info": {
   "codemirror_mode": {
    "name": "ipython",
    "version": 3
   },
   "file_extension": ".py",
   "mimetype": "text/x-python",
   "name": "python",
   "nbconvert_exporter": "python",
   "pygments_lexer": "ipython3",
   "version": "3.10.9"
  },
  "toc": {
   "base_numbering": 1,
   "nav_menu": {},
   "number_sections": true,
   "sideBar": true,
   "skip_h1_title": false,
   "title_cell": "Table of Contents",
   "title_sidebar": "Contents",
   "toc_cell": false,
   "toc_position": {},
   "toc_section_display": true,
   "toc_window_display": false
  }
 },
 "nbformat": 4,
 "nbformat_minor": 5
}
