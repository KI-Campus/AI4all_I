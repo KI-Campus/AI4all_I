{
 "cells": [
  {
   "cell_type": "markdown",
   "metadata": {
    "pycharm": {
     "name": "#%% md\n"
    }
   },
   "source": [
    "# Aufgabe (_Aufteilung des Datensatzes in eine Trainings- und eine Testmenge_)\n",
    "\n",
    "In der unten stehenden Datentabelle sind der _Personalschlüssel (Anzahl der Kinder pro Erzieherin bzw. Erzieher)_, die _Gruppenraumgröße (durchschnittliche Fläche in qm pro Kind)_ und die _Kindergartenqualität (0 für \"niedrig\", 1 für \"durchschnittlich\" und 2 für \"hoch\")_ für acht Kindergärten zusammengefasst."
   ]
  },
  {
   "cell_type": "markdown",
   "metadata": {
    "pycharm": {
     "name": "#%% md\n"
    }
   },
   "source": [
    "<center>\n",
    "<table>\n",
    "  <tr>\n",
    "    <th> <center></center> </th>\n",
    "    <th> Personalschlüssel </th>\n",
    "    <th> Gruppenraumgröße </th>\n",
    "    <th> Kindergartenqualität </th>\n",
    "  </tr>\n",
    "  <tr>\n",
    "    <td> Kindergarten A </td>\n",
    "    <td> <center>5</center> </td>\n",
    "    <td> <center>7</center> </td>\n",
    "    <td> <center>2</center> </td>\n",
    "  </tr>\n",
    "    <tr>\n",
    "    <td> Kindergarten B </td>\n",
    "    <td> <center>11</center> </td>\n",
    "    <td> <center>2,5</center> </td>\n",
    "    <td> <center>0</center> </td>\n",
    "  </tr>\n",
    "    <tr>\n",
    "    <td> Kindergarten C </td>\n",
    "    <td> <center>5</center> </td>\n",
    "    <td> <center>3</center> </td>\n",
    "    <td> <center>1</center> </td>\n",
    "  </tr>\n",
    "    <tr>\n",
    "    <td> Kindergarten D </td>\n",
    "    <td> <center>8</center> </td>\n",
    "    <td> <center>6,5</center> </td>\n",
    "    <td> <center>0</center> </td>\n",
    "  </tr>\n",
    "    <tr>\n",
    "    <td> Kindergarten E </td>\n",
    "    <td> <center>4</center> </td>\n",
    "    <td> <center>8</center> </td>\n",
    "    <td> <center>2</center> </td>\n",
    "  </tr>\n",
    "    <tr>\n",
    "    <td> Kindergarten F </td>\n",
    "    <td> <center>6,5</center> </td>\n",
    "    <td> <center>5</center> </td>\n",
    "    <td> <center>1</center> </td>\n",
    "  </tr>\n",
    "    <tr>\n",
    "    <td> Kindergarten G </td>\n",
    "    <td> <center>3</center> </td>\n",
    "    <td> <center>4</center> </td>\n",
    "    <td> <center>1</center> </td>\n",
    "  </tr>\n",
    "    <tr>\n",
    "    <td> Kindergarten H </td>\n",
    "    <td> <center>10,5</center> </td>\n",
    "    <td> <center>4,5</center> </td>\n",
    "    <td> <center>0</center> </td>\n",
    "  </tr>\n",
    "</table>\n",
    "</center>\n"
   ]
  },
  {
   "cell_type": "markdown",
   "metadata": {
    "pycharm": {
     "name": "#%% md\n"
    }
   },
   "source": [
    "Der Personalschlüssel und die Gruppenraumgröße werden im _ndarray_ _pers\\_room_ und die Kindergartenqualität im _ndarray_ _quality_ gespeichert. Schreibe eine Anweisung in Python, mit deren Hilfe der Datensatz aus der oberen Tabelle in eine Trainings- und eine Testmenge aufgeteilt wird, so dass die Testmenge 30% aller Beobachtungen enthält."
   ]
  },
  {
   "cell_type": "code",
   "execution_count": null,
   "metadata": {
    "pycharm": {
     "name": "#%%\n"
    }
   },
   "outputs": [],
   "source": [
    "import numpy as np\n",
    "from sklearn import model_selection\n",
    "\n",
    "pers_room = np.array([[5, 7], [11, 2.5], [5, 3], [8, 6.5],\n",
    "                      [4, 8], [6.5, 5], [3, 4], [10.5, 4.5]])\n",
    "quality = np.array([2, 0, 1, 0, 2, 1, 1, 0])\n",
    "\n",
    "\n",
    "# Hier kommt deine Lösung\n",
    "\n",
    "\n"
   ]
  },
  {
   "cell_type": "markdown",
   "metadata": {
    "pycharm": {
     "name": "#%% md\n"
    }
   },
   "source": [
    "# Aufgabe (_k-nächste-Nachbarn-Modell_)\n",
    "\n",
    "Die _ndarrays_ _X\\_train_, _X\\_test_, _y\\_train_ und _y\\_test_ repräsentieren eine mögliche Zerlegung in eine Trainings- und eine Testmenge des Datensatzes aus _Aufgabe 1_.\n",
    "\n",
    "* a) Erstelle ein _k_-nächste-Nachbarn-Modell mit _k_ = 3 und trainiere die Trainingsmenge damit.\n",
    "* b) Prognostiziere mit dem trainierten _k_-nächste-Nachbarn-Modell die Kindergartenqualität für alle Beobachtungen aus der Testmenge.\n",
    "\n",
    "Ergänze deine Anweisungen mit sinnvollen Kommentaren."
   ]
  },
  {
   "cell_type": "code",
   "execution_count": null,
   "metadata": {
    "pycharm": {
     "name": "#%%\n"
    }
   },
   "outputs": [],
   "source": [
    "import numpy as np\n",
    "from sklearn import neighbors\n",
    "\n",
    "X_train = np.array([[10.5, 4.5], [ 5, 7], [ 4, 8], [ 8, 6.5], [ 3, 4]])\n",
    "y_train = np.array([0, 1, 2, 0, 1])\n",
    "X_test = np.array([[11, 2.5], [ 6.5, 5], [ 5, 3]])\n",
    "y_test = np.array([0, 1, 2])\n",
    "\n",
    "# Hier kommt deine Lösung für Teilaufgabe a)\n",
    "\n",
    "\n",
    "\n",
    "# Hier kommt deine Lösung für Teilaufgabe b)\n",
    "\n",
    "\n"
   ]
  },
  {
   "cell_type": "markdown",
   "metadata": {
    "pycharm": {
     "name": "#%% md\n"
    }
   },
   "source": [
    "# Aufgabe (_Accuracy_)\n",
    "\n",
    "Die _ndarrays_ _y\\_test_ und _y\\_pred_ repräsentieren die tatsächlichen und die geschätzten Klassen für die Beobachtungen der Testmenge. Schreibe eine Anweisung in Python, mit deren Hilfe die Genauigkeit (_Accuracy_) für die Schätzung berechnet wird."
   ]
  },
  {
   "cell_type": "code",
   "execution_count": null,
   "metadata": {
    "pycharm": {
     "name": "#%%\n"
    }
   },
   "outputs": [],
   "source": [
    "import numpy as np\n",
    "from sklearn.metrics import accuracy_score\n",
    "\n",
    "y_test = np.array([0, 1, 2])\n",
    "y_pred = np.array([0, 1, 1])\n",
    "\n",
    "accuracy = 0\n",
    "\n",
    "# Hier kommt deine Lösung\n",
    "\n",
    "\n",
    "print(accuracy)"
   ]
  }
 ],
 "metadata": {
  "hide_input": false,
  "kernelspec": {
   "display_name": "Python (AI4all_I)",
   "language": "python",
   "name": "python-ai4all_i"
  },
  "language_info": {
   "codemirror_mode": {
    "name": "ipython",
    "version": 3
   },
   "file_extension": ".py",
   "mimetype": "text/x-python",
   "name": "python",
   "nbconvert_exporter": "python",
   "pygments_lexer": "ipython3",
   "version": "3.10.9"
  },
  "toc": {
   "base_numbering": 1,
   "nav_menu": {},
   "number_sections": true,
   "sideBar": true,
   "skip_h1_title": false,
   "title_cell": "Table of Contents",
   "title_sidebar": "Contents",
   "toc_cell": false,
   "toc_position": {},
   "toc_section_display": true,
   "toc_window_display": false
  }
 },
 "nbformat": 4,
 "nbformat_minor": 1
}
