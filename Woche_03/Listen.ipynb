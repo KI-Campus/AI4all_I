{
 "cells": [
  {
   "cell_type": "markdown",
   "metadata": {
    "pycharm": {
     "name": "#%% md\n"
    }
   },
   "source": [
    "# Listen"
   ]
  },
  {
   "cell_type": "markdown",
   "metadata": {
    "pycharm": {
     "name": "#%% md\n"
    }
   },
   "source": [
    "## Erzeugung von Listen\n",
    "\n",
    "In Python werden Listen durch eckige Klammern gekennzeichnet. Die Elemente innerhalb einer Liste werden durch Kommas voneinander getrennt.\n",
    "\n",
    "Es gibt mehrere Möglichkeiten eine Liste zu erzeugen. Wenn die Elemente einer Liste bereits bekannt sind, können diese direkt beim Erzeugen angegeben werden."
   ]
  },
  {
   "cell_type": "code",
   "execution_count": null,
   "metadata": {
    "pycharm": {
     "name": "#%%\n"
    }
   },
   "outputs": [],
   "source": [
    "kinderbuecher = [\"Peter Pan\", \"Pippi Langstrumpf\", \"Alice im Wunderland\"]\n",
    "\n",
    "print(kinderbuecher)"
   ]
  },
  {
   "cell_type": "code",
   "execution_count": null,
   "metadata": {
    "pycharm": {
     "name": "#%%\n"
    }
   },
   "outputs": [],
   "source": [
    "erscheinungsjahr = [1911, 1945, 1865]\n",
    "\n",
    "print(erscheinungsjahr)"
   ]
  },
  {
   "cell_type": "markdown",
   "metadata": {
    "pycharm": {
     "name": "#%% md\n"
    }
   },
   "source": [
    "Im Unterschied zu vielen anderen Programmiersprachen kann man in Python in einer Liste Elemente unterschiedlicher Datentypen speichern. Diese Art von Listen wird oft genutzt, um tabellenartige Strukturen zu erzeugen. Man kann kleine Listen erzeugen, die einzelne Tabellenzeilen darstellen und später diese zu einer verschachtelten Liste zusammenfügen."
   ]
  },
  {
   "cell_type": "code",
   "execution_count": null,
   "metadata": {
    "pycharm": {
     "name": "#%%\n"
    }
   },
   "outputs": [],
   "source": [
    "kinderbuch_1 = [\"Pippi Langstrumpf\", \"Astrid Lindgren\", 1945]\n",
    "\n",
    "print(kinderbuch_1)"
   ]
  },
  {
   "cell_type": "code",
   "execution_count": null,
   "metadata": {
    "pycharm": {
     "name": "#%%\n"
    }
   },
   "outputs": [],
   "source": [
    "kinderbuch_2 = [\"Alice im Wunderland\", \"Lewis Carroll\", 1865]\n",
    "\n",
    "print(kinderbuch_2)"
   ]
  },
  {
   "cell_type": "markdown",
   "metadata": {
    "pycharm": {
     "name": "#%% md\n"
    }
   },
   "source": [
    "Jetzt kann eine übergeordnete Liste erstellt werden, die oben definierten Listen als Unterlisten enthält."
   ]
  },
  {
   "cell_type": "code",
   "execution_count": null,
   "metadata": {
    "pycharm": {
     "name": "#%%\n"
    }
   },
   "outputs": [],
   "source": [
    "buchliste = [kinderbuch_1, kinderbuch_2]\n",
    "\n",
    "print(buchliste)"
   ]
  },
  {
   "cell_type": "markdown",
   "metadata": {
    "pycharm": {
     "name": "#%% md\n"
    }
   },
   "source": [
    "Bis jetzt wurden Listen mit vorher festgelegten Elementen erstellt. Wenn die Elemente einer Liste am Anfang noch nicht bekannt sind und erst im Laufe des Programms generiert werden, kann zuerst eine leere Liste erstellt werden und dieser nach und nach Elemente hinzugefügt werden."
   ]
  },
  {
   "cell_type": "code",
   "execution_count": null,
   "metadata": {
    "pycharm": {
     "name": "#%%\n"
    }
   },
   "outputs": [],
   "source": [
    "krimis = []\n",
    "\n",
    "print(krimis)"
   ]
  },
  {
   "cell_type": "markdown",
   "metadata": {
    "pycharm": {
     "name": "#%% md\n"
    }
   },
   "source": [
    "Um ein Element am Ende der Liste hinzuzufügen, benutzt man die Funktion _append()_ und zwar so, dass man nach dem Listennamen einen Punkt schreibt, danach kommt die Funktion _append()_ und in der Klammer das Element, welches man einfügen möchte."
   ]
  },
  {
   "cell_type": "code",
   "execution_count": null,
   "metadata": {
    "pycharm": {
     "name": "#%%\n"
    }
   },
   "outputs": [],
   "source": [
    "krimis.append(\"Mord im Orient-Express\")\n",
    "\n",
    "print(krimis)"
   ]
  },
  {
   "cell_type": "code",
   "execution_count": null,
   "metadata": {
    "pycharm": {
     "name": "#%%\n"
    }
   },
   "outputs": [],
   "source": [
    "krimis.append(\"Der Pate\")\n",
    "\n",
    "print(krimis)"
   ]
  },
  {
   "cell_type": "markdown",
   "metadata": {
    "pycharm": {
     "name": "#%% md\n"
    }
   },
   "source": [
    "Um ein Element an eine bestimmte Stelle in die Liste einzufügen, benutzt man die Funktion _insert()_. Wie bei der _append()_-Funktion schreibt man zuerst den Listennamen, danach einen Punkt, dann die Funktion _insert()_. In der Klammer der Funktion gibt man zuerst die Position an, an die das neue Element eingefügt werden soll."
   ]
  },
  {
   "cell_type": "code",
   "execution_count": null,
   "metadata": {
    "pycharm": {
     "name": "#%%\n"
    }
   },
   "outputs": [],
   "source": [
    "krimis.insert(1, \"Alibi\")\n",
    "\n",
    "print(krimis)"
   ]
  },
  {
   "cell_type": "markdown",
   "metadata": {
    "pycharm": {
     "name": "#%% md\n"
    }
   },
   "source": [
    "## Zugriff auf die Listenelemente\n",
    "\n",
    "Um auf die einzelne Listenelemente zugreifen zu können, muss man hinter dem Listennamen in den eckigen Klammern den Index des Elementes angeben."
   ]
  },
  {
   "cell_type": "code",
   "execution_count": null,
   "metadata": {
    "pycharm": {
     "name": "#%%\n"
    }
   },
   "outputs": [],
   "source": [
    "print(kinderbuecher[1])"
   ]
  },
  {
   "cell_type": "code",
   "execution_count": null,
   "metadata": {
    "pycharm": {
     "name": "#%%\n"
    }
   },
   "outputs": [],
   "source": [
    "print(kinderbuecher[-1])"
   ]
  },
  {
   "cell_type": "markdown",
   "metadata": {
    "pycharm": {
     "name": "#%% md\n"
    }
   },
   "source": [
    "Wenn man auf eine Position außerhalb der Liste zugreifen möchte, bekommt man eine Fehlermeldung, die besagt, dass der Index außerhalb des Bereichs liegt."
   ]
  },
  {
   "cell_type": "code",
   "execution_count": null,
   "metadata": {
    "pycharm": {
     "name": "#%%\n"
    }
   },
   "outputs": [],
   "source": [
    "#print(kinderbuecher[3])"
   ]
  },
  {
   "cell_type": "markdown",
   "metadata": {
    "pycharm": {
     "name": "#%% md\n"
    }
   },
   "source": [
    "Damit solche Fehler nicht passieren, kann man mit der Funktion _len()_, die für length steht, die Anzahl der Elemente einer Liste ausgeben."
   ]
  },
  {
   "cell_type": "code",
   "execution_count": null,
   "metadata": {
    "pycharm": {
     "name": "#%%\n"
    }
   },
   "outputs": [],
   "source": [
    "print(len(kinderbuecher))"
   ]
  },
  {
   "cell_type": "markdown",
   "metadata": {
    "pycharm": {
     "name": "#%% md\n"
    }
   },
   "source": [
    "Wenn man nur eine Teilmenge aufeinanderfolgender Elemente einer Liste ausgeben möchte, zum Beispiel nur die ersten beiden Elemente, kann man in der eckigen Klammer den Start- und den End-Index getrennt durch einen Doppelpunkt angeben. Dabei wird das Element an der Endposition nicht mit ausgegeben. Diese Methode nennt man Slicing. Man schneidet so gesehen eine Scheibe aus der Liste aus."
   ]
  },
  {
   "cell_type": "code",
   "execution_count": null,
   "metadata": {
    "pycharm": {
     "name": "#%%\n"
    }
   },
   "outputs": [],
   "source": [
    "print(kinderbuecher[0:2])"
   ]
  },
  {
   "cell_type": "markdown",
   "metadata": {
    "pycharm": {
     "name": "#%% md\n"
    }
   },
   "source": [
    "Wenn man die Elemente ab einer bestimmten Position bis zum Ende der Liste ausgeben möchte, gibt man nur die Anfangsposition und den Doppelpunkt in den eckigen Klammern an."
   ]
  },
  {
   "cell_type": "code",
   "execution_count": null,
   "metadata": {
    "pycharm": {
     "name": "#%%\n"
    }
   },
   "outputs": [],
   "source": [
    "print(kinderbuecher[1:])"
   ]
  },
  {
   "cell_type": "markdown",
   "metadata": {
    "pycharm": {
     "name": "#%% md\n"
    }
   },
   "source": [
    "Möchte man alle Elemente einer Liste von Anfang bis zu einer bestimmten Position ausgeben, muss nur die Endposition nach dem Doppelpunkt in den eckigen Klammern angeben werden."
   ]
  },
  {
   "cell_type": "code",
   "execution_count": null,
   "metadata": {
    "pycharm": {
     "name": "#%%\n"
    }
   },
   "outputs": [],
   "source": [
    "print(kinderbuecher[:2])"
   ]
  },
  {
   "cell_type": "markdown",
   "metadata": {
    "pycharm": {
     "name": "#%% md\n"
    }
   },
   "source": [
    "Um auf die einzelnen Elemente einer Unterliste in einer verschachtelten Liste zugreifen zu können, muss man zwei Indexe angeben. Der erste Index gibt die Position der Unterliste an. Der zweite Index gibt das Element innerhalb der Unterliste an."
   ]
  },
  {
   "cell_type": "code",
   "execution_count": null,
   "metadata": {
    "pycharm": {
     "name": "#%%\n"
    }
   },
   "outputs": [],
   "source": [
    "print(buchliste[0][2])"
   ]
  },
  {
   "cell_type": "markdown",
   "metadata": {
    "pycharm": {
     "name": "#%% md\n"
    }
   },
   "source": [
    "Wenn wir nur einen Index für eine verschachtelte Liste angeben, dann wird die gesamte Unterliste, die an dieser Position steht, ausgegeben."
   ]
  },
  {
   "cell_type": "code",
   "execution_count": null,
   "metadata": {
    "pycharm": {
     "name": "#%%\n"
    }
   },
   "outputs": [],
   "source": [
    "print(buchliste[0])"
   ]
  },
  {
   "cell_type": "markdown",
   "metadata": {
    "pycharm": {
     "name": "#%% md\n"
    }
   },
   "source": [
    "## Elemente einer Liste ersetzen und löschen\n",
    "\n",
    "Um ein Element der Liste durch ein anderes Element zu ersetzen, muss man dieses Element mit Hilfe seines Indexes ansprechen und ihm einen neuen Wert zuweisen."
   ]
  },
  {
   "cell_type": "code",
   "execution_count": null,
   "metadata": {
    "pycharm": {
     "name": "#%%\n"
    }
   },
   "outputs": [],
   "source": [
    "print(krimis)"
   ]
  },
  {
   "cell_type": "code",
   "execution_count": null,
   "metadata": {
    "pycharm": {
     "name": "#%%\n"
    }
   },
   "outputs": [],
   "source": [
    "krimis[0] = \"Der dünne Mann\"\n",
    "\n",
    "print(krimis)"
   ]
  },
  {
   "cell_type": "markdown",
   "metadata": {
    "pycharm": {
     "name": "#%% md\n"
    }
   },
   "source": [
    "Das Löschen der Listenelemente erfolgt mit dem _del_-Befehl. Wenn man also ein oder mehrere Elemente aus der Liste entfernen möchten, muss man zuerst den _del_-Befehl eingeben und danach das Element bzw. die Elemente, die gelöscht werden sollen."
   ]
  },
  {
   "cell_type": "code",
   "execution_count": null,
   "metadata": {
    "pycharm": {
     "name": "#%%\n"
    }
   },
   "outputs": [],
   "source": [
    "del krimis[0:2]\n",
    "\n",
    "print(krimis)"
   ]
  },
  {
   "cell_type": "markdown",
   "metadata": {
    "pycharm": {
     "name": "#%% md\n"
    }
   },
   "source": [
    "Man kann auch alle Elemente einer Liste löschen, indem man den Listennamen gefolgt von einem Punkt und der Methode _clear()_ eingibt. Die Liste bleibt noch definiert, aber sie ist dann leer."
   ]
  },
  {
   "cell_type": "code",
   "execution_count": null,
   "metadata": {
    "pycharm": {
     "name": "#%%\n"
    }
   },
   "outputs": [],
   "source": [
    "krimis.clear()\n",
    "\n",
    "print(krimis)"
   ]
  },
  {
   "cell_type": "markdown",
   "metadata": {
    "pycharm": {
     "name": "#%% md\n"
    }
   },
   "source": [
    "## Zugehörigkeiten zu einer Liste\n",
    "\n",
    "Um prüfen zu können, ob ein Element in einer Liste enthalten ist, kann man den _in_-Operator verwenden. Dazu wird zuerst das Element gefolgt von _in_-Operator und dem Listennamen angegeben. Wenn das Element in der Liste enthalten ist, wird ein _True_, also Wahr als Ergebnis geliefert. Wenn das Element in der Liste nicht vorkommt, dann erhält man _False_ als Ergebnis."
   ]
  },
  {
   "cell_type": "code",
   "execution_count": null,
   "metadata": {
    "pycharm": {
     "name": "#%%\n"
    }
   },
   "outputs": [],
   "source": [
    "'Peter Pan' in kinderbuecher"
   ]
  },
  {
   "cell_type": "code",
   "execution_count": null,
   "metadata": {
    "pycharm": {
     "name": "#%%\n"
    }
   },
   "outputs": [],
   "source": [
    "'Der Pate' in kinderbuecher"
   ]
  },
  {
   "cell_type": "markdown",
   "metadata": {
    "pycharm": {
     "name": "#%% md\n"
    }
   },
   "source": [
    "Man kann das Vorkommen eines Elementes in der Liste auch mit der Funktion _count()_ implizit prüfen. Diese Funktion berechnet, wie oft ein Element in der Liste vorkommt. Dafür gibt man den Listennamen gefolgt von einem Punkt und der Funktion _count()_ ein. In der Klammer der Funktion wird das gesuchte Element angegeben."
   ]
  },
  {
   "cell_type": "code",
   "execution_count": null,
   "metadata": {
    "pycharm": {
     "name": "#%%\n"
    }
   },
   "outputs": [],
   "source": [
    "kinderbuecher.count('Peter Pan')"
   ]
  },
  {
   "cell_type": "code",
   "execution_count": null,
   "metadata": {
    "pycharm": {
     "name": "#%%\n"
    }
   },
   "outputs": [],
   "source": [
    "kinderbuecher.count('Der Pate')"
   ]
  },
  {
   "cell_type": "markdown",
   "metadata": {
    "pycharm": {
     "name": "#%% md\n"
    }
   },
   "source": [
    "## Verkettung von Listen\n",
    "\n",
    "Man spricht von der Verkettung bzw. Konkatenation von Listen, wenn man Elemente einer Liste mit den Elementen einer anderen Liste zusammenfügt. Dabei wird die Reihenfolge der Elemente nicht verändert."
   ]
  },
  {
   "cell_type": "code",
   "execution_count": null,
   "metadata": {
    "pycharm": {
     "name": "#%%\n"
    }
   },
   "outputs": [],
   "source": [
    "krimis = ['Der dünne Mann', 'Alibi', 'Der Pate']\n",
    "\n",
    "print(krimis)"
   ]
  },
  {
   "cell_type": "code",
   "execution_count": null,
   "metadata": {
    "pycharm": {
     "name": "#%%\n"
    }
   },
   "outputs": [],
   "source": [
    "print(kinderbuecher)"
   ]
  },
  {
   "cell_type": "markdown",
   "metadata": {
    "pycharm": {
     "name": "#%% md\n"
    }
   },
   "source": [
    "Man verkettet die Listen in Python mit dem \"+\"-Operator, indem man zuerst den Namen der verketteten Liste angibt, dann den Zuweisungsoperator gefolgt von dem ersten Listennamen, dem \"+\"-Operator und dem Namen der zweiten Liste. Eigentlich kann man auch mehr als zwei Listen in einer Anweisung miteinander verketten. Dazu verknüpft man weitere Listennamen mit dem \"+\"-Operator."
   ]
  },
  {
   "cell_type": "code",
   "execution_count": null,
   "metadata": {
    "pycharm": {
     "name": "#%%\n"
    }
   },
   "outputs": [],
   "source": [
    "buecher = krimis + kinderbuecher\n",
    "\n",
    "print(buecher)"
   ]
  }
 ],
 "metadata": {
  "hide_input": false,
  "kernelspec": {
   "display_name": "Python (AI4all_I)",
   "language": "python",
   "name": "python-ai4all_i"
  },
  "language_info": {
   "codemirror_mode": {
    "name": "ipython",
    "version": 3
   },
   "file_extension": ".py",
   "mimetype": "text/x-python",
   "name": "python",
   "nbconvert_exporter": "python",
   "pygments_lexer": "ipython3",
   "version": "3.10.9"
  },
  "toc": {
   "base_numbering": 1,
   "nav_menu": {},
   "number_sections": true,
   "sideBar": true,
   "skip_h1_title": false,
   "title_cell": "Table of Contents",
   "title_sidebar": "Contents",
   "toc_cell": false,
   "toc_position": {},
   "toc_section_display": true,
   "toc_window_display": false
  }
 },
 "nbformat": 4,
 "nbformat_minor": 1
}
