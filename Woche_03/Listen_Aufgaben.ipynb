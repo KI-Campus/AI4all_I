{
 "cells": [
  {
   "cell_type": "markdown",
   "metadata": {
    "pycharm": {
     "name": "#%% md\n"
    }
   },
   "source": [
    "### Aufgabe (_Hinzufügen von Elementen zu einer Liste_)\n",
    "Die unten definierte Liste _colours_ enthält drei Farben _red_, _green_ und _blue_ als Elemente.\n",
    "\n",
    "Schreibe eine Anweisung, um das Element _yellow_ an das Ende der Liste einzufügen."
   ]
  },
  {
   "cell_type": "code",
   "execution_count": null,
   "metadata": {
    "pycharm": {
     "name": "#%%\n"
    }
   },
   "outputs": [],
   "source": [
    "colours = [\"red\", \"green\", \"blue\"]\n",
    "\n",
    "# Hier kommt deine Lösung\n",
    "\n",
    "\n",
    "print(colours)"
   ]
  },
  {
   "cell_type": "markdown",
   "metadata": {
    "pycharm": {
     "name": "#%% md\n"
    }
   },
   "source": [
    "### Aufgabe (_Zugriff auf die Listenelemente_)\n",
    "Die Liste _fruits_ enthält fünf Elemente: _apple_, _pear_, _banana_, _grape_ und _peach_.\n"
   ]
  },
  {
   "cell_type": "code",
   "execution_count": null,
   "metadata": {
    "pycharm": {
     "name": "#%%\n"
    }
   },
   "outputs": [],
   "source": [
    "fruits = [\"apple\", \"pear\", \"banana\", \"grape\", \"peach\"]"
   ]
  },
  {
   "cell_type": "markdown",
   "metadata": {
    "pycharm": {
     "name": "#%% md\n"
    }
   },
   "source": [
    "a) Auf welches Element wird jeweils durch die Anweisung\n",
    "   1. `fruits[2]`\n",
    "   2. `fruits[-1]`\n",
    "\n",
    "zugegriffen?"
   ]
  },
  {
   "cell_type": "code",
   "execution_count": null,
   "metadata": {
    "pycharm": {
     "name": "#%%\n"
    }
   },
   "outputs": [],
   "source": [
    "# Hier kannst du deine Lösung ausprobieren\n",
    "\n",
    "\n"
   ]
  },
  {
   "cell_type": "markdown",
   "metadata": {
    "pycharm": {
     "name": "#%% md\n"
    }
   },
   "source": [
    "b) Schreibe eine Anweisung, um die Elemente _grape_ und _peach_ in der vorgegebenen Reihenfolge auszugeben."
   ]
  },
  {
   "cell_type": "code",
   "execution_count": null,
   "metadata": {
    "pycharm": {
     "name": "#%%\n"
    }
   },
   "outputs": [],
   "source": [
    "# Hier kommt deine Lösung\n",
    "\n",
    "\n"
   ]
  },
  {
   "cell_type": "markdown",
   "metadata": {
    "pycharm": {
     "name": "#%% md\n"
    }
   },
   "source": [
    "### Aufgabe (_Listen von Listen_)\n",
    "Die unten definierte Liste _composers_ beinhaltet die Namen, die Geburtsjahre und die Geburtsstädte einiger Komponisten.\n",
    "\n",
    "Schreibe eine Anweisung, mit der du das Geburtsjahr von Antonio Lucio Vivaldi ausgeben kannst."
   ]
  },
  {
   "cell_type": "code",
   "execution_count": null,
   "metadata": {
    "pycharm": {
     "name": "#%%\n"
    }
   },
   "outputs": [],
   "source": [
    "composers = [[\"Johannes Brahms\", 1833, \"Hamburg\"], [\"Wolfgang Amadeus Mozart\", 1756, \"Salzburg\"], [\"Antonio Lucio Vivaldi\", 1678, \"Venedig\"]]\n",
    "\n",
    "# Hier kommt deine Lösung\n",
    "\n"
   ]
  },
  {
   "cell_type": "markdown",
   "metadata": {
    "pycharm": {
     "name": "#%% md\n"
    }
   },
   "source": [
    "### Aufgabe (_Elemente einer Liste ersetzen_)\n",
    "In die Liste _primes_ hat sich ein Fehler eingeschlichen. Schreibe eine Anweisung, mit der die Zahl _9_ durch die Primzahl _7_ ersetzt wird."
   ]
  },
  {
   "cell_type": "code",
   "execution_count": null,
   "metadata": {
    "pycharm": {
     "name": "#%%\n"
    }
   },
   "outputs": [],
   "source": [
    "primes = [2, 3, 5, 9, 11]\n",
    "\n",
    "# Hier kommt deine Lösung\n",
    "\n",
    "\n",
    "print(primes)"
   ]
  },
  {
   "cell_type": "markdown",
   "metadata": {
    "pycharm": {
     "name": "#%% md\n"
    }
   },
   "source": [
    "### Aufgabe (_Zugehörigkeiten zu einer Liste_)\n",
    "Die Liste _tongue_twister_ enthält die Worte eines Zungenbrechers als Elemente. Schreibe eine Anweisung, mit der du die Anzahl des Vorkommens des Wortes \"can\" in der Liste _tongue_twister_ berechnen kannst.\n"
   ]
  },
  {
   "cell_type": "code",
   "execution_count": null,
   "metadata": {
    "pycharm": {
     "name": "#%%\n"
    }
   },
   "outputs": [],
   "source": [
    "tongue_twister = [\"Can\", \"you\", \"can\", \"a\", \"can\", \"as\", \"a\", \"canner\", \"can\", \"can\", \"a\", \"can\"]\n",
    "\n",
    "# Hier kommt deine Lösung\n",
    "\n"
   ]
  },
  {
   "cell_type": "markdown",
   "metadata": {
    "pycharm": {
     "name": "#%% md\n"
    }
   },
   "source": [
    "### Aufgabe (_Verkettung von Listen_)\n",
    "Die Listen _part_1_ und _part_2_ enthalten jeweils zwei Teile einer Zahlenfolge. Schreibe eine Anweisung, mit der du aus diesen beiden Listen eine neue Liste `numbers = [5, 6, 7, 1, 2, 3, 4]` erstellst.\n",
    "\n"
   ]
  },
  {
   "cell_type": "code",
   "execution_count": null,
   "metadata": {
    "pycharm": {
     "name": "#%%\n"
    }
   },
   "outputs": [],
   "source": [
    "part_1 = [1, 2, 3, 4]\n",
    "part_2 = [5, 6, 7]\n",
    "\n",
    "# Hier kommt deine Lösung\n",
    "\n"
   ]
  }
 ],
 "metadata": {
  "hide_input": false,
  "kernelspec": {
   "display_name": "Python (AI4all_I)",
   "language": "python",
   "name": "python-ai4all_i"
  },
  "language_info": {
   "codemirror_mode": {
    "name": "ipython",
    "version": 3
   },
   "file_extension": ".py",
   "mimetype": "text/x-python",
   "name": "python",
   "nbconvert_exporter": "python",
   "pygments_lexer": "ipython3",
   "version": "3.10.9"
  },
  "toc": {
   "base_numbering": 1,
   "nav_menu": {},
   "number_sections": true,
   "sideBar": true,
   "skip_h1_title": false,
   "title_cell": "Table of Contents",
   "title_sidebar": "Contents",
   "toc_cell": false,
   "toc_position": {},
   "toc_section_display": true,
   "toc_window_display": false
  }
 },
 "nbformat": 4,
 "nbformat_minor": 1
}
