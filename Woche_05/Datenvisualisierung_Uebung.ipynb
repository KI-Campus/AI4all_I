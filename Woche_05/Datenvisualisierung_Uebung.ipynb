{
 "cells": [
  {
   "cell_type": "markdown",
   "metadata": {},
   "source": [
    "# Datenvisualisierung - Spielwiese\n",
    "\n",
    "In diesem Notebook kannst du mit plotly express herumspielen."
   ]
  },
  {
   "cell_type": "code",
   "execution_count": null,
   "metadata": {},
   "outputs": [],
   "source": [
    "import plotly.express as px\n",
    "import plotly.graph_objects as go"
   ]
  },
  {
   "cell_type": "markdown",
   "metadata": {},
   "source": [
    "Plotly bietet einige Datensätze an. Hier werden einige Datensätze schon mal geladen."
   ]
  },
  {
   "cell_type": "code",
   "execution_count": null,
   "metadata": {},
   "outputs": [],
   "source": [
    "gapminder = px.data.gapminder()\n",
    "tips = px.data.tips()\n",
    "stocks = px.data.stocks()\n",
    "\n",
    "#Hier kannst du nach Lust und Laune Diagramme erstellen\n"
   ]
  },
  {
   "cell_type": "code",
   "execution_count": null,
   "metadata": {},
   "outputs": [],
   "source": [
    "#falls gewünscht, kannst du hier deine Diagramme abspeichern\n",
    "\n",
    "#fig.write_image(\"fig/dateiname\")"
   ]
  },
  {
   "cell_type": "markdown",
   "metadata": {},
   "source": [
    "# Übungsaufgaben\n",
    "\n",
    "Die Lösungen zu diesen Aufgaben werden später im Quiz abgefragt!\n",
    "\n",
    "## Liniendiagramme\n",
    "In der Vorlesung hast du gesehen, dass man Diagramme auch kombinieren kann, und hast als Beispiel ein kombiniertes Diagramm mit Linienplot und dazugehörigem Scatterplot gesehen. Hier siehst du noch einmal den passenden Befehl dazu:"
   ]
  },
  {
   "cell_type": "code",
   "execution_count": null,
   "metadata": {},
   "outputs": [],
   "source": [
    "dataDeFrPo = gapminder.query(\"country in ['Germany', 'France', 'Poland']\")\n",
    "fig1 = px.line(dataDeFrPo, x = 'year', y= 'lifeExp', color = 'country')\n",
    "fig2 = px.scatter(dataDeFrPo, x = 'year', y= 'lifeExp', color = 'country')\n",
    "fig = go.Figure(fig1.data + fig2.data)\n",
    "fig.show()"
   ]
  },
  {
   "cell_type": "markdown",
   "metadata": {},
   "source": [
    "Allerdings kann in diesem speziellen Beispiel dasselbe auch nur mit dem line-Befehl erreicht werden. Finde im plotly-Handbuch einen Parameter des line-Befehls, der nicht nur ein Liniendiagramm anzeigt, sondern auch die Datenpunkte markiert. Hilfe findest du [hier](https://plotly.com/python-api-reference/generated/plotly.express.line.html) und [hier](https://plotly.com/python/line-charts/)."
   ]
  },
  {
   "cell_type": "code",
   "execution_count": null,
   "metadata": {},
   "outputs": [],
   "source": [
    "# Ersetze die Fragezeichen im folgenden Befehl.\n",
    "px.line(dataDeFrPo, x = 'year', y= 'lifeExp', color = 'country', ? = ?)"
   ]
  },
  {
   "cell_type": "markdown",
   "metadata": {},
   "source": [
    "Du hast ebenfalls bereits gelernt, dass Diagramme einen aussagekräftigen Titel brauchen. Wie kannst du für das folgende Liniendiagramm den Titel auf \"Entwicklung der Lebenserwartung\" setzen?"
   ]
  },
  {
   "cell_type": "code",
   "execution_count": null,
   "metadata": {},
   "outputs": [],
   "source": [
    "# Ersetze die Fragezeichen im folgenden Befehl.\n",
    "px.line(dataDeFrPo, x = 'year', y= 'lifeExp', color = 'country', ? = ?)"
   ]
  },
  {
   "cell_type": "markdown",
   "metadata": {},
   "source": [
    "Wie du siehst, wird bei plotly automatisch eine Legende miterstellt. Was aber, wenn uns der Legendentitel so nicht gefällt? Zum Glück gibt es nachträglich Möglichkeiten, Layoutoptionen zu ändern. Betrachte als Hilfe [diese Dokumentation](https://plotly.com/python/reference/layout/) und ändere den Legendentitel zu \"Land\"."
   ]
  },
  {
   "cell_type": "code",
   "execution_count": null,
   "metadata": {},
   "outputs": [],
   "source": [
    "fig1.update_layout(? =  ?)\n",
    "fig1.show()"
   ]
  },
  {
   "cell_type": "markdown",
   "metadata": {},
   "source": [
    "## Kuchendiagramme\n",
    "\n",
    "In der Vorlesung hast du gelernt, wie man Kuchendiagramme erstellt. Betrachte das folgende Kuchendiagramm."
   ]
  },
  {
   "cell_type": "code",
   "execution_count": null,
   "metadata": {},
   "outputs": [],
   "source": [
    "fig3 = px.pie(tips, names = 'day', values = 'total_bill')\n",
    "fig3.show()"
   ]
  },
  {
   "cell_type": "markdown",
   "metadata": {},
   "source": [
    "In dem Diagramm sind jetzt die Prozentzahlen innerhalb der Kuchenstücke angeordnet. Aber was, wenn wir sie außerhalb angezeigt bekommen wollen? Recherchiere den passenden Befehl mit Hilfe von [dieser Seite](https://plotly.com/python/reference/pie/)."
   ]
  },
  {
   "cell_type": "code",
   "execution_count": null,
   "metadata": {},
   "outputs": [],
   "source": [
    "fig3.update_traces(? = ?)"
   ]
  },
  {
   "cell_type": "markdown",
   "metadata": {},
   "source": [
    "Es gibt noch viele weitere Möglichkeiten zur individuellen Gestaltung, lies dich einfach durch Dokumentationen durch. Denke auch an die Tipps, worauf du bei einer guten Visualisierung achten solltest. Viel Erfolg!"
   ]
  }
 ],
 "metadata": {
  "hide_input": false,
  "kernelspec": {
   "display_name": "Python (AI4all_I)",
   "language": "python",
   "name": "python-ai4all_i"
  },
  "language_info": {
   "codemirror_mode": {
    "name": "ipython",
    "version": 3
   },
   "file_extension": ".py",
   "mimetype": "text/x-python",
   "name": "python",
   "nbconvert_exporter": "python",
   "pygments_lexer": "ipython3",
   "version": "3.10.9"
  },
  "toc": {
   "base_numbering": 1,
   "nav_menu": {},
   "number_sections": true,
   "sideBar": true,
   "skip_h1_title": false,
   "title_cell": "Table of Contents",
   "title_sidebar": "Contents",
   "toc_cell": false,
   "toc_position": {},
   "toc_section_display": true,
   "toc_window_display": false
  }
 },
 "nbformat": 4,
 "nbformat_minor": 1
}
