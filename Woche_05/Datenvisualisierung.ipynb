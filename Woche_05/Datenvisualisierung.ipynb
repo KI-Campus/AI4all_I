{
 "cells": [
  {
   "cell_type": "markdown",
   "metadata": {},
   "source": [
    "# Notebook: Programmierung -- Visualisierung\n",
    "\n",
    "Datenvisualisierungen eignen sich unter anderem gut dafür, Trends in Daten zu erkennen oder Beziehungen zwischen Daten zu veranschaulichen. Doch wie können Datenvisualisierungen in python erzeugt werden?\n",
    "\n",
    "\n",
    "## Plotly\n",
    "In diesem Notebook beschäftigen wir uns mit dem Visualisierungsmodul plotly, insbesondere mit plotly express. Der große Vorteil an plotly express ist es, dass du bereits mit kleinen Befehlen gut lesbare und verständliche Grafiken erzeugen kannst. Daher ist dieses Modul für Anfänger gut geeignet. plotly kann mit vielen verschiedenen Eingabeformaten umgehen, unter anderem auch mit numpy-Arrays und sogenannten DataFrames aus dem pandas-Modul. pandas ist ein Modul, das auf Datenbereinigung und -analyse spezialisiert ist. Schau ruhig mal in das pandas-Handbuch, ob du nützliche Befehle für deine Daten findest! Es gibt zum Beispiel viele Optionen zum Einlesen von Daten. plotly hat bereits eingebaute Datensätze im DataFrames-Format, die wir im Folgenden benutzen werden. Für dieses Notebook benötigst du aber keinerlei Kenntnisse über das pandas-Modul und das genaue Format der Daten ist hier irrelevant. Wir importieren zuerst das Modul plotly.express als px."
   ]
  },
  {
   "cell_type": "code",
   "execution_count": null,
   "metadata": {},
   "outputs": [],
   "source": [
    "import plotly.express as px"
   ]
  },
  {
   "cell_type": "markdown",
   "metadata": {},
   "source": [
    "Wir betrachten den Datensatz \"gapminder\". Bei gapminder handelt es sich um eine Stiftung, die mithilfe von zuverlässigen Daten über häufige Irrtümer aufklärt. Der vorliegende Datensatz beinhaltet Länderdaten wie Name, Kontinent, Lebenserwartung usw. Mehr Informationen findest du unter https://www.gapminder.org/\n",
    "\n",
    "Wir laden die Daten mit dem folgenden Befehl: data = px.data.gapminder(). Das data = gibt dabei an, dass wir unseren Datensatz in einer Variable namens data speichern, die wir im weiteren Verlauf benutzen können. Die Funktion head für DataFrames zeigt uns dann die ersten Zeilen unseres Datensatzes an. Auf diese Art und Weise können wir zum Beispiel sehen, welche features unsere Daten haben und was einige Werte dieser features sind. In unserem Fall, also wenn wir data.head() eingeben, wird uns dies angezeigt:"
   ]
  },
  {
   "cell_type": "code",
   "execution_count": null,
   "metadata": {},
   "outputs": [],
   "source": [
    "data = px.data.gapminder()\n",
    "data.head()"
   ]
  },
  {
   "cell_type": "markdown",
   "metadata": {},
   "source": [
    "Es gibt 8 Spalten, unter anderem mit Land, Kontinent, Jahr, Lebenserwartung, Bevölkerung, und Bruttoinlandsprodukt pro Kopf. Es ist voreingestellt, dass head 5 Zeilen anzeigt. Falls du mehr Zeilen einsehen möchtest, kannst du die entsprechende Anzahl in die Klammern schreiben, also z.B. data.head(10)."
   ]
  },
  {
   "cell_type": "code",
   "execution_count": null,
   "metadata": {},
   "outputs": [],
   "source": [
    "data.head(10)"
   ]
  },
  {
   "cell_type": "markdown",
   "metadata": {},
   "source": [
    "Falls du dich nur für bestimmte feature-Werte interessierst, kannst du deine Daten auch mit dem query-Befehl einschränken. Vereinfacht gesagt benötigt query als Parameter einen Ausdruck, auf den es die Zeilen deiner Tabelle überprüfen soll. Dieser Ausdruck muss als String vorliegen, also von Anführungsstrichen umgeben sein. Zum Beispiel sorgt dieser Befehl dafür, dass nur die Daten für Deutschland angezeigt werden. Das Land wird im feature country angegeben. Da es sich bei den Ländernamen um Strings handelt, darfst du die Anführungsstriche um Germany nicht vergessen. Mit dem doppelten Gleichheitszeichen kontrollierst du die Gleichheit von den Ausdrücken auf beiden Seiten."
   ]
  },
  {
   "cell_type": "code",
   "execution_count": null,
   "metadata": {},
   "outputs": [],
   "source": [
    "dataGermany = data.query(\"country == 'Germany'\")\n",
    "dataGermany.head(10)"
   ]
  },
  {
   "cell_type": "markdown",
   "metadata": {},
   "source": [
    "Falls du zum Beispiel nur Einträge seit 1990 betrachten willst, nimmst du diesen Befehl. Da es sich bei 1990 um eine Zahl handelt, wird sie nicht in Anführungsstrichen geschrieben."
   ]
  },
  {
   "cell_type": "code",
   "execution_count": null,
   "metadata": {},
   "outputs": [],
   "source": [
    "dataSince1990 = data.query(\"year >= 1990\")\n",
    "dataSince1990.head(10)"
   ]
  },
  {
   "cell_type": "markdown",
   "metadata": {},
   "source": [
    "Es ist außerdem möglich, mehrere mögliche Werte eines features gleichzeitig zu betrachten. Dieser Befehl schränkt unsere Daten auf die Kontinente Europa und Afrika ein."
   ]
  },
  {
   "cell_type": "code",
   "execution_count": null,
   "metadata": {},
   "outputs": [],
   "source": [
    "dataEuropeAfrica = data.query(\"continent in ['Europe', 'Africa']\")\n",
    "dataEuropeAfrica.head(10)"
   ]
  },
  {
   "cell_type": "markdown",
   "metadata": {},
   "source": [
    "## Streudiagramme\n",
    "\n",
    "Fangen wir mit Streudiagrammen an, um uns zuerst einmal unsere Daten in grafischer Form anzeigen zu lassen. Für diese Diagramme benutzen wir den Befehl scatter. Wenn wir uns jetzt den Bezug zwischen Lebenserwartung und BIP der Länder ansehen wollen, können wir dafür diesen Befehl verwenden. Der erste Parameter gibt den betrachteten Datensatz an. Der Übersichtlichkeit halber betrachten wir nur Daten aus dem Jahr 2007, schränken also wieder mit query unsere Daten ein. Auf der x-Achse ist die Lebenserwartung und auf der y-Achse das BIP aufgetragen, daher weisen wir diese mit x= und y= zu. Zur Erinnerung: Die x-Achse ist die horizontale und die y-Achse die vertikale Achse eines Koordinatensystems. Die Zuweisung funktioniert einfach über den entsprechenden Spaltennamen. Auch hier gilt: Die Spaltennamen sind Strings, also die Anführungsstriche nicht vergessen! Als Ausgabe erhalten wir dieses Diagramm. Das Diagramm ist interaktiv. Du musst also nur mit der Maus über die Linie fahren, um die genauen Werte angezeigt zu bekommen."
   ]
  },
  {
   "cell_type": "code",
   "execution_count": null,
   "metadata": {},
   "outputs": [],
   "source": [
    "px.scatter(data.query(\"year == 2007\"), x = 'lifeExp', y = 'gdpPercap')"
   ]
  },
  {
   "cell_type": "markdown",
   "metadata": {},
   "source": [
    "Doch was, wenn wir uns zusätzlich für den Vergleich zwischen den Kontinenten interessieren? Mit dem Parameter color können gleiche feature-Werte gleich eingefärbt werden. In diesem Diagramm haben also alle Länder desselben Kontinents auch dieselbe Farbe."
   ]
  },
  {
   "cell_type": "code",
   "execution_count": null,
   "metadata": {},
   "outputs": [],
   "source": [
    "px.scatter(data.query(\"year == 2007\"), x = 'lifeExp', y = 'gdpPercap', color = 'continent')"
   ]
  },
  {
   "cell_type": "markdown",
   "metadata": {},
   "source": [
    "Mit dem Parameter symbol kann das benutzte Symbol für die Punkte geändert werden, entweder für alle Punkte auf einmal oder in Abhängigkeit eines features. Dasselbe gilt für den Parameter size für die Größe der Punkte. Damit das Diagramm nicht zu unübersichtlich wird, beschränken wir uns auf die Daten aus Europa und Afrika. Das Resultat sieht so aus."
   ]
  },
  {
   "cell_type": "code",
   "execution_count": null,
   "metadata": {},
   "outputs": [],
   "source": [
    "px.scatter(dataEuropeAfrica.query(\"year == 2007\"), x = 'lifeExp', y = 'gdpPercap', color = 'continent', symbol = 'continent', size = 'pop')"
   ]
  },
  {
   "cell_type": "markdown",
   "metadata": {},
   "source": [
    "Scatterplots, wie viele andere Diagrammarten, gibt es auch in 3D. Der Befehl hierfür lautet scatter_3d und benötigt noch einen zusätzlichen Parameter z für die dritte Achse.\n",
    "\n",
    "## Liniendiagramme\n",
    "\n",
    "Als nächstes schauen wir uns Liniendiagramme an. Für diese Diagramme gibt es den Befehl \"line\". Betrachten wir zuerst die Entwicklung der Lebenserwartung in Deutschland. Dabei sollen auf der x-Achse die Jahre und auf der y-Achse die Lebenserwartung angezeigt werden.  Der erste Parameter des line-Befehls ist wieder unser Datensatz, hier also der über Deutschland genannt dataGermany. Danach wird mit x = 'year' und y = 'lifeExp' angegeben, welche Spalten unseres Datensatzes auf welchen Achsen angezeigt werden sollen. Ein letztes Mal: Denk an die Anführungsstriche, da es sich hier um Spaltennamen handelt! Das Endergebnis sieht wie folgt aus:"
   ]
  },
  {
   "cell_type": "code",
   "execution_count": null,
   "metadata": {},
   "outputs": [],
   "source": [
    "px.line(dataGermany, x = 'year', y = 'lifeExp')"
   ]
  },
  {
   "cell_type": "markdown",
   "metadata": {},
   "source": [
    "Wir können auch mehrere Linien in einem Diagramm anzeigen. Wenn wir die Lebenserwartungen von Deutschland, Frankreich und Polen vergleichen wollen, geht das z.B. folgendermaßen. Um die Länder auseinanderzuhalten, kann die Linienfarbe auch hier auf ein feature gesetzt werden. Das bewirkt, dass alle Datenpunkte, die für dieses feature einen gleichen Wert haben, im Diagramm auch die gleiche Farbe zugewiesen bekommen. Eine Legende mit der Farbzuordnung wird automatisch miterstellt. Durch Klicken auf einen Eintrag in der Legende können einzelne Länder auch ausgeblendet werden."
   ]
  },
  {
   "cell_type": "code",
   "execution_count": null,
   "metadata": {},
   "outputs": [],
   "source": [
    "dataDeFrPo = data.query(\"country in ['Germany', 'France', 'Poland']\")\n",
    "px.line(dataDeFrPo, x = 'year', y= 'lifeExp', color = 'country')"
   ]
  },
  {
   "cell_type": "markdown",
   "metadata": {},
   "source": [
    "## Balken- und Säulendiagramme\n",
    "\n",
    "Als nächstes beschäftigen wir uns mit Säulendiagrammen. In plotly express kannst du Säulendiagramme mit dem Befehl bar erstellen. Wenn wir das Bruttoinlandsprodukt des Jahres 2007 von Deutschland, Frankreich und Polen vergleichen wollen, nutzen wir dafür z.B. die folgende Zeile:"
   ]
  },
  {
   "cell_type": "code",
   "execution_count": null,
   "metadata": {},
   "outputs": [],
   "source": [
    "px.bar(dataDeFrPo.query(\"year == 2007\"), x = 'country', y = 'gdpPercap')"
   ]
  },
  {
   "cell_type": "markdown",
   "metadata": {},
   "source": [
    "Wir können die Werte auch stapeln, also übereinander darstellen, indem wir mehr Jahre zulassen. Hier bietet es sich an, die Jahre farblich voneinander zu trennen."
   ]
  },
  {
   "cell_type": "code",
   "execution_count": null,
   "metadata": {},
   "outputs": [],
   "source": [
    "px.bar(dataDeFrPo.query(\"year >= 1990\"), x = 'country', y = 'gdpPercap', color = 'year')"
   ]
  },
  {
   "cell_type": "markdown",
   "metadata": {},
   "source": [
    "Wie du sehen kannst, gibt der höchste Punkt das addierte BIP aller dargestellten Jahre an. Allerdings eignet sich diese Darstellung in diesem Zusammenhang nicht wirklich, um Vergleiche der einzelnen Jahre zwischen diesen Ländern anzustellen. Der Parameter facet_col ermöglicht es, die Balken auch nach Jahren getrennt anzugeben. Das Resultat siehst du hier."
   ]
  },
  {
   "cell_type": "code",
   "execution_count": null,
   "metadata": {},
   "outputs": [],
   "source": [
    "px.bar(dataDeFrPo.query(\"year > 1990\"), x = 'country', y = 'gdpPercap', color = 'country', facet_col = 'year')"
   ]
  },
  {
   "cell_type": "markdown",
   "metadata": {},
   "source": [
    "## Kuchendiagramme\n",
    "\n",
    "plotly express kann unter anderem auch Kuchendiagramme darstellen. Der Befehl dafür lautet pie, für das englische pie chart. Hier geben wir mit values an, über welche Werte die Verteilung erstellt werden soll, und mit names, wonach kategorisiert werden soll. Das folgende Beispiel erstellt ein Diagramm, bei denen jedes Kuchenstück angibt, wie groß der Anteil eines Kontinents an der Gesamtbevölkerung ist. Wir benutzen die Zahlen aus dem Jahr 2007."
   ]
  },
  {
   "cell_type": "code",
   "execution_count": null,
   "metadata": {},
   "outputs": [],
   "source": [
    "data2007 = data.query(\"year == 2007\")\n",
    "px.pie(data2007, values = \"pop\", names = \"continent\")"
   ]
  },
  {
   "cell_type": "markdown",
   "metadata": {},
   "source": [
    "## Diagramme kombinieren\n",
    "\n",
    "Diagramme können auch kombiniert werden. Sinnvolle Kombinationen sind z.B. zwei Liniendiagramme oder ein Liniendiagramm und ein scatter-Plot. Erstellen wir also zuerst zwei Diagramme namens fig1 und fig2.\n",
    "Der Einfachheit halber nehmen wir als fig1 das Liniendiagramm, bei denen die Lebenserwartung von Deutschland, Polen, und Frankreich verglichen wird, und erzeugen als fig2 noch den dazugehörigen Scatterplot dazu."
   ]
  },
  {
   "cell_type": "code",
   "execution_count": null,
   "metadata": {},
   "outputs": [],
   "source": [
    "fig1 = px.line(dataDeFrPo, x = 'year', y= 'lifeExp', color = 'country')\n",
    "fig2 = px.scatter(dataDeFrPo, x = 'year', y= 'lifeExp', color = 'country')"
   ]
  },
  {
   "cell_type": "markdown",
   "metadata": {},
   "source": [
    "Kombinieren funktioniert jetzt folgendermaßen: Du benötigst das Modul plotly.graph_objects, was häufig mit go abgekürzt wird. Um zwei Diagramme zu kombinieren, kannst du den folgenden Befehl verwenden. Dabei werden alle Daten von fig1 und fig2 inklusive der Layoutoptionen genommen und mit dem + verknüpft. Der show-Befehl zeigt einfach nur ein Diagramm an, das wir zuvor in einer Variable gespeichert haben. Das Resultat sieht so aus."
   ]
  },
  {
   "cell_type": "code",
   "execution_count": null,
   "metadata": {},
   "outputs": [],
   "source": [
    "import plotly.graph_objects as go\n",
    "fig = go.Figure(fig1.data + fig2.data)\n",
    "fig.show()"
   ]
  },
  {
   "cell_type": "markdown",
   "metadata": {},
   "source": [
    "## Speichern\n",
    "\n",
    "Sobald du deine Grafik fertig gestellt hast, willst du sie sicher auch außerhalb eines Jupyter-Notebooks verwenden. Zum externen Speichern musst du das Modul kaleido installiert haben. Du kannst dann auf folgende Weise deine Diagramme speichern. fig bezeichnet dabei deine zu speichernde Grafik. Der Befehl write_image(Pfad) speichert eine Grafik statisch ab, wohingegen bzw. write_html(Pfad) eine html-Datei erzeugt und damit die Interaktivität erhält. Der Pfad ist dabei ein String, wo das Bild gespeichert werden soll, inklusive Dateiname und -endung. Willst du also z.B. das eben erstellte kombinierte Diagramm namens fig unter dem Namen plot in demselben Ordner speichern, in dem auch das hier gezeigte Notebook liegt, verwendest du diese Befehle."
   ]
  },
  {
   "cell_type": "code",
   "execution_count": null,
   "metadata": {},
   "outputs": [],
   "source": [
    "#Leider funktioniert kaleido aktuell nicht auf dem KI-Campus, deshalb ist der folgende Befehl auskommentiert\n",
    "#fig.write_image(\"plot.png\")\n",
    "fig.write_html(\"plot.html\")"
   ]
  },
  {
   "cell_type": "markdown",
   "metadata": {},
   "source": [
    "In diesem Notebook hast du gelernt, mit dem Modul plotly express kleine Visualisierungen zu erstellen."
   ]
  }
 ],
 "metadata": {
  "hide_input": false,
  "kernelspec": {
   "display_name": "Python (AI4all_I)",
   "language": "python",
   "name": "python-ai4all_i"
  },
  "language_info": {
   "codemirror_mode": {
    "name": "ipython",
    "version": 3
   },
   "file_extension": ".py",
   "mimetype": "text/x-python",
   "name": "python",
   "nbconvert_exporter": "python",
   "pygments_lexer": "ipython3",
   "version": "3.10.9"
  },
  "toc": {
   "base_numbering": 1,
   "nav_menu": {},
   "number_sections": true,
   "sideBar": true,
   "skip_h1_title": false,
   "title_cell": "Table of Contents",
   "title_sidebar": "Contents",
   "toc_cell": false,
   "toc_position": {},
   "toc_section_display": true,
   "toc_window_display": false
  }
 },
 "nbformat": 4,
 "nbformat_minor": 1
}
