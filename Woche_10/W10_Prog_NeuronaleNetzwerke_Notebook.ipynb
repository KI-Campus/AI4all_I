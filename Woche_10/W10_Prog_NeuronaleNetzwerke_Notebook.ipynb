{
 "cells": [
  {
   "cell_type": "markdown",
   "metadata": {
    "id": "8h9fd272cM9V",
    "pycharm": {
     "name": "#%% md\n"
    }
   },
   "source": [
    "# Installation und Import"
   ]
  },
  {
   "cell_type": "code",
   "execution_count": null,
   "metadata": {
    "id": "tCfDpRxhcSut",
    "pycharm": {
     "name": "#%%\n"
    }
   },
   "outputs": [],
   "source": [
    "import tensorflow as tf\n",
    "from tensorflow.keras import datasets, layers, models\n",
    "\n",
    "import plotly.express as px\n",
    "import numpy as np"
   ]
  },
  {
   "cell_type": "markdown",
   "metadata": {
    "id": "r4CEfUKUk4wy",
    "pycharm": {
     "name": "#%% md\n"
    }
   },
   "source": [
    "# Zusatzmaterial\n",
    "\n",
    "In diesem Abgschnitt gibt es einige Python-Methoden, die in der Haupterklärung nicht ausführlich behandelt wurden. Diese Methoden können jedoch nützlich sein, wenn Du tiefer in die Funktionsweise des Codes eintauchen möchtest."
   ]
  },
  {
   "cell_type": "code",
   "execution_count": null,
   "metadata": {
    "id": "PIn_BWRUk-rq",
    "pycharm": {
     "name": "#%%\n"
    }
   },
   "outputs": [],
   "source": [
    "def show_example(X, y, index):\n",
    "    \"\"\"\n",
    "    Zeigt ein Bild aus einer Sammlung von Bildern zusammen mit seiner Beschriftung und Pixelstatistik an.\n",
    "    \n",
    "    Args:\n",
    "    - X: Ein numpy-Array der Form (n, Höhe, Breite), das die Bilder darstellt.\n",
    "    - y: Ein numpy array of shape (n, ), das die entsprechenden Labels darstellt.\n",
    "    - index: Eine ganze Zahl, die den Index des anzuzeigenden Bildes angibt.\n",
    "    \n",
    "    Rückgabe:\n",
    "    - Keine\n",
    "    \n",
    "    Nebeneffekte:\n",
    "    - Druckt die Form des Bildes.\n",
    "    - Druckt die Bezeichnung des Bildes.\n",
    "    - Gibt den Wert des mittleren Pixels des Bildes aus.\n",
    "    - Druckt die minimalen und maximalen Pixelwerte des Bildes.\n",
    "    - Zeigt das Bild mit Hilfe der Plotly Express-Bibliothek an.\n",
    "    \"\"\"\n",
    "    \n",
    "    image = X[index]\n",
    "    label = y[index]\n",
    "    print(\"Struktur vom Bild:\", image.shape)\n",
    "    print(\"Label:\", y[index])\n",
    "    print(\"Pixel in der Mitte:\", image[int(image.shape[0]/2), int(image.shape[1]/2)])\n",
    "    print(\"Farbwerte (dunkel -> hell):\", image.min(), \"to\", image.max())\n",
    "    fig = px.imshow(image, binary_string=True)\n",
    "    if 'google.colab' in str(get_ipython()):\n",
    "        fig.show(renderer='colab') \n",
    "    else:\n",
    "        fig.show(renderer='iframe') \n",
    "\n",
    "    return np.array([image])"
   ]
  },
  {
   "cell_type": "markdown",
   "metadata": {
    "id": "zRb5lalScYGD",
    "pycharm": {
     "name": "#%% md\n"
    }
   },
   "source": [
    "# Der MNIST Datensatz\n",
    "\n",
    "Der [MNIST](!http://yann.lecun.com/exdb/mnist/) Datensatz ist ein wahrer Klassiker und ein absolutes Muss für jeden, der sich für maschinelles Lernen interessiert!\n",
    "\n",
    "Dieser besteht aus einer großen Sammlung handgeschriebener Ziffern.\n",
    "Besonders an den Ziffern ist, dass diese auf winzigen 28x28 Pixel Bildern in Graustufen dargestellt sind.\n",
    "\n",
    "Insgesamt kannst Du dort alle Zahlen von 0 bis 9 in einer Sammlung von 70.000 dieser Bilder finden.\n",
    "\n",
    "Schön daran ist, dass 60.000 der Ziffern speziell zum Trainieren künstlicher neuronaler Netze verwendet werden können, während die restlichen 10.000 für Tests bereitstehen.\n",
    "\n",
    "Weitere Informationen kannst Du aus der Dokumentation entnehmen.\n",
    "Rufe Deine Befehle dazu einfach mit `??` am Ende auf, wie beispielsweise:\n",
    "\n",
    "\n",
    "\n",
    "```\n",
    "datasets.mnist.load_data??\n",
    "```\n",
    "\n",
    "\n",
    "\n",
    "---\n",
    "> **_Achtung:_**  Wir beschränken uns in erster Linie auf den Aufbau eines neuronalen Netzes, daher sind die Trainings- und Test-Daten in erster Linie rein repräsentativ.\n",
    "\n",
    "Also lass uns einen Blick auf die Daten werfen:\n"
   ]
  },
  {
   "cell_type": "code",
   "execution_count": null,
   "metadata": {
    "id": "zS9Y4ZlGceC9",
    "pycharm": {
     "name": "#%%\n"
    }
   },
   "outputs": [],
   "source": [
    "# Zuerst werden die Daten geladen\n",
    "(x_train, y_train), (x_test, y_test) = datasets.mnist.load_data()"
   ]
  },
  {
   "cell_type": "code",
   "execution_count": null,
   "metadata": {
    "colab": {
     "base_uri": "https://localhost:8080/"
    },
    "id": "yTeSezHkgiHB",
    "outputId": "0363b94a-75ff-44d2-c94f-5ee1a482d2af",
    "pycharm": {
     "name": "#%%\n"
    }
   },
   "outputs": [],
   "source": [
    "# Mit .shape kannst Du sehen wie der Aufbau der Daten ist.\n",
    "# Du kannst sehen, dass der erste Eintrag die Gesamtzahl der Daten angibt.\n",
    "# Die darauf folgenden zwei Werte hingegen geben die Größe (Höhe, Breite) der Bilder an.\n",
    "print(\"Trainings Daten:\", x_train.shape)\n",
    "print(\"Test Daten:\", x_test.shape)\n",
    "# Bei den Labeln ist es anders als bei den Bilddaten, hier haben wir nur einzelne Werte.\n",
    "print(\"Trainings Label:\", y_train.shape)\n",
    "print(\"Test Label:\", y_test.shape)"
   ]
  },
  {
   "cell_type": "markdown",
   "metadata": {
    "id": "cAXe61ZpnpW5",
    "pycharm": {
     "name": "#%% md\n"
    }
   },
   "source": [
    "## Aufbau von Graustufenbildern\n",
    "\n",
    "Der MNIST-Datensatz besteht aus handgeschriebenen Ziffern, die als Graustufenbildern dargestellt sind. In diesem Kontext bedeutet Schwarz, dass der Pixelwert den Wert 0 hat, und Weiß, dass der Pixelwert den Wert 255 hat. Grautöne sind zwischen diesen beiden Extremen und haben unterschiedliche Intensitäten.\n",
    "\n",
    "Die Bilder im MNIST-Datensatz sind Matrizen, die aus 28x28 Pixeln bestehen.\n",
    "Jeder dieser Pixel enthält einen einzigen Wert zwischen 0 und 255, welcher angibt, wie dunkel oder hell der Pixel ist. \n",
    "\n",
    "Schwarz-Weiß-Bilder sind im Umgang mit neuronalen Netzen von großer Bedeutung, da sie einfach als Matrizen dargestellt werden können, wodurch die Verarbeitung und Analyse dieser Bilder deutlich erleichtert wird.\n",
    "\n",
    "Die Pixelwerte einer Bild-Matrix können verwendet werden, um Merkmale des Bildes zu extrahieren und um Muster zu erkennen."
   ]
  },
  {
   "cell_type": "code",
   "execution_count": null,
   "metadata": {
    "colab": {
     "base_uri": "https://localhost:8080/",
     "height": 633
    },
    "id": "_AJvvQsPcgp5",
    "outputId": "922453a9-370a-464b-f267-6e6c264a0c23",
    "pycharm": {
     "name": "#%%\n"
    }
   },
   "outputs": [],
   "source": [
    "# Hier kannst du interaktiv ein Beispiel betrachten.\n",
    "example = show_example(x_train, y_train, 0)"
   ]
  },
  {
   "cell_type": "markdown",
   "metadata": {
    "id": "I2dN2nQZp0n6",
    "pycharm": {
     "name": "#%% md\n"
    }
   },
   "source": [
    "## Daten Normalisierung\n",
    "\n",
    "Beim MNIST-Datensatz enthalten die Bilder die Graustufenwerte von 0 bis 255, wobei 0 Weiß und 255 Schwarz repräsentiert. Vor der Verwendung in einem neuronalen Netzwerk müssen die Bilder normalisiert werden, indem man die Graustufenwerte auf den Bereich von 0 bis 1 skaliert.\n",
    "\n",
    "Warum wird das gemacht? Eine Normalisierung der Bilder hilft dem neuronalen Netzwerk, besser zu lernen, indem es vermeidet, dass bestimmte Werte bevorzugt werden, die aufgrund der Skalierung von größeren Werten in einigen Bildern verursacht werden könnten. Dies kann dazu beitragen, dass das Netzwerk insgesamt besser funktioniert und bessere Ergebnisse liefert."
   ]
  },
  {
   "cell_type": "code",
   "execution_count": null,
   "metadata": {
    "id": "dXsPVjPps5g_",
    "pycharm": {
     "name": "#%%\n"
    }
   },
   "outputs": [],
   "source": [
    "# Du kannst die Bildmatrizen normalisieren indem Du einfach durch den höchsten Farbwert teilst.\n",
    "x_train, x_test = x_train / 255.0, x_test / 255.0"
   ]
  },
  {
   "cell_type": "code",
   "execution_count": null,
   "metadata": {
    "colab": {
     "base_uri": "https://localhost:8080/",
     "height": 633
    },
    "id": "BO-3u7ubtEVw",
    "outputId": "12e6d3fe-3059-4e44-e3b9-72fed641f3ab",
    "pycharm": {
     "name": "#%%\n"
    }
   },
   "outputs": [],
   "source": [
    "# Hier siehst Du das normalisierte Bild\n",
    "example = show_example(x_train, y_train, 0)"
   ]
  },
  {
   "cell_type": "markdown",
   "metadata": {
    "id": "e_JGLlBatszA",
    "pycharm": {
     "name": "#%% md\n"
    }
   },
   "source": [
    "# Aufbau eines neuronalen Netzes\n",
    "\n",
    "Neuronale Netze basieren auf der Funktionsweise von biologischen Neuronen im Gehirn. In einem neuronalen Netzwerk gibt es Eingangsneuronen, welche Daten aufnehmen, verarbeiten und an Ausgangsneuronen weitergeben. Die Neuronen sind in Schichten angeordnet, und jedes Neuron in einer Schicht ist mit jedem Neuron in der nächsten Schicht verbunden.\n",
    "\n",
    "---\n",
    "## Die Schichten\n",
    "Ein neuronales Netz besteht aus verschiedenen Schichten, die aufeinander aufbauen und unterschiedliche Funktionen erfüllen. \n",
    "\n",
    "Die erste Schicht des Netzes ist die Eingangsschicht, welche die Daten aufnimmt. Die letzte Schicht des Netzes ist die Ausgangsschicht, welche das Ergebnis des Netzes ausgibt. Dazwischen befinden sich versteckte Schichten, welche die Eingabe durch komplexe mathematische Operationen verarbeiten und die Daten so transformieren, dass das Netzwerk ein sinnvolles Ergebnis ausgibt.\n",
    "\n",
    "Jede Schicht des Netzes besteht aus Neuronen, welche Informationen von den vorherigen Schichten verarbeiten und an die nächste Schicht weiterleiten. Die Neuronen sind wie Bausteine in einem Lego-Set, welche aufeinander gestapelt werden und verschiedene Funktionen erfüllen. Wie bei einem Lego-Set können die Schichten und Neuronen auch in neuronalen Netzen je nach Problemstellung und Datenstruktur unterschiedlich angeordnet werden, um die kreativsten Figuren zu erzeugen.\n"
   ]
  },
  {
   "cell_type": "code",
   "execution_count": null,
   "metadata": {
    "id": "m3GuW-mSwJe8",
    "pycharm": {
     "name": "#%%\n"
    }
   },
   "outputs": [],
   "source": [
    "# Hier kannst Du das finale Modell sehen.\n",
    "model = models.Sequential([ # Sequentiell bedeutet, dass das Neuronal schichtweise aufgebaut wird.\n",
    "    layers.Flatten(input_shape=(28, 28)), # Das Bild wird in die Länge gezogen -> 28*28 Pixel = 1*784.\n",
    "    layers.Dense(128, activation='relu'), # Die erste Dichteschicht besteht aus 128 Neuronen.\n",
    "    layers.Dense(10, activation='softmax') # Hier siehst Du die finale Ausgabeschicht.\n",
    "])"
   ]
  },
  {
   "cell_type": "code",
   "execution_count": null,
   "metadata": {
    "colab": {
     "base_uri": "https://localhost:8080/"
    },
    "id": "xFneidtGzEwV",
    "outputId": "0213d62d-d7e8-461f-d407-ca3e7145a9bc",
    "pycharm": {
     "name": "#%%\n"
    }
   },
   "outputs": [],
   "source": [
    "model.summary()"
   ]
  },
  {
   "cell_type": "markdown",
   "metadata": {
    "id": "pSmwxy0U0V1p",
    "pycharm": {
     "name": "#%% md\n"
    }
   },
   "source": [
    "# Interpretation\n",
    "Der gezeigte Code erstellt ein neuronales Netz mit drei Layern: der Eingangsschicht, einer versteckten Schicht (Layer) und der Ausgabeschicht. Die Eingangsschicht ist eine Flattening-Schicht, die das ursprüngliche 28x28 Pixel große Bild in einen eindimensionalen Vektor mit 784 Werten umwandelt.\n",
    "\n",
    "Die versteckte Schicht besteht aus 128 Neuronen und verwendet die ReLU-Aktivierungsfunktion.\n",
    "\n",
    "Die Ausgabeschicht besteht aus 10 Neuronen, welche nummerische Aussagen des neuronalen Netzes bezüglich 10 möglichen Klassen ausgeben.\n",
    "\n",
    "## Aktivierungsfunktionen\n",
    "\n",
    "Wie Dir aufgefallen sein wird hat das neuronale Netz zwei unterschiedliche Aktivierungsfunktionen.\n",
    "\n",
    "ReLU (Rectified Linear Unit) ist eine Aktivierungsfunktion, die oft in neuronalen Netzen verwendet wird, um die Ausgabe von Neuronen zu berechnen. Sie wird oft in tieferen Schichten von neuronalen Netzen verwendet, um die Ausgabe von Neuronen zu aktivieren und zu berechnen.\n",
    "\n",
    "Die Softmax-Funktion ist eine Aktivierungsfunktion, die normalerweise am Ende des neuronalen Netzes verwendet wird, um eine Wahrscheinlichkeitsverteilung für die Ausgabe des Netzes zu erzeugen. Die Softmax-Funktion wird auf die Ausgabe von einem oder mehreren Neuronen angewendet und berechnet die Wahrscheinlichkeiten für jede mögliche Ausgabe. \n",
    "\n",
    "## Parameter des Netzes\n",
    "\n",
    "Die endgültigen Parameter des Modells (Gewichte, Bias) werden während des Trainings auf den Trainingsdaten erlernt und hängen generell von dem Aufbau des neuronalen Netzes ab.\n",
    "\n",
    "Die Anzahl der Parameter in den Schichten eines neuronalen Netzes ergibt sich dabei aus der Anzahl an Neuronen in jeder Schicht, der Anzahl der Eingabevariablen, der Art der Schicht und der Art der Aktivierungsfunktion.\n",
    "\n",
    "> **_Achtung:_**  In einem neuronalen Netz geben die einzelnen Schichten ihre Ausgaben an die nächste Schicht weiter.\n",
    "\n",
    "Für eine Schicht mit $n$ Neuronen und $m$ Eingabevariablen gibt es $n*m$ Gewichte, die trainiert werden müssen. Hinzu kommt noch, dass die $n$ Neuronen einer Schicht selber als Parameter hinzugezählt werden müssen. Somit ergibt sich die Gesamtzahl an Parametern zwischen zwei Sichten aus: $(n*m)+n$ wobei $n$ die Anzahl der Neuronen und $m$ die Anzahl der Eingabevariablen ist.\n",
    "\n",
    "Beispiel:\n",
    "\n",
    "Die erste Flatten-Schicht gibt 784 Pixel (flache 28x28 Bilder) an die erste Dense-Schicht aus 128 Neuronen weiter. Somit erzeugt diese Schicht $(128 * 784) + 128 = 100.480$ Parameter."
   ]
  },
  {
   "cell_type": "markdown",
   "metadata": {
    "id": "xrrDiFbNUuXm",
    "pycharm": {
     "name": "#%% md\n"
    }
   },
   "source": [
    "# Ausblick\n",
    "\n",
    "Du hast in diesem Tutorial gesehen, wie ein neuronales Netz aufgebaut wird und mit Eingabe-Daten umgeht.\n",
    "\n",
    "Sobald man das Verständnis dafür hat, wie das untrainierte Modell funktioniert, gibt es viele spannende Möglichkeiten, um es zu optimieren und seine Leistung zu verbessern.\n",
    "\n",
    "Obwohl das Modell noch nicht gelernt hat, wofür es eigentlich eingesetzt wird, kann es Bilder als Eingabe entgegennehmen und in eine den 10 Zielklassen angemessene Darstellung bringen. Dies geschieht mittels [softmax](!https://developers.google.com/machine-learning/glossary?hl=de#softmax) welche dafür sorgt, dann die \"rohen\" Ausgaben des Netzes direkt in interpretirebare Wahrscheinlicheiten überführt werden.\n",
    "\n",
    "Je höher ein Wert für eine bestimmte Ausgabe ist, desto stärker ist das Netzwerk davon überzeugt, dass diese Ausgabe korrekt ist. Umgekehrt gilt: Je niedriger dieser Wert ist, desto unwahrscheinlicher ist es, dass das Netzwerk diese Ausgabe als korrekt ansieht.\n",
    "\n",
    "Wenn das neuronale Netzwerk trainiert wird, ist das Ziel, die Ausgabe-Werte so zu optimieren, dass sie so nah wie möglich an den tatsächlichen Werten der Trainingsdaten liegen. Auf diese Weise kann das Netzwerk lernen, Muster in den Daten zu erkennen und genaue Vorhersagen zu treffen.\n",
    "\n",
    "Dazu aber mehr in der nächsten Woche.\n"
   ]
  },
  {
   "cell_type": "code",
   "execution_count": null,
   "metadata": {
    "colab": {
     "base_uri": "https://localhost:8080/"
    },
    "id": "U0YzcjlkVx8z",
    "outputId": "b7e88fe9-998a-4d32-9e61-34fa8eb8e17e",
    "pycharm": {
     "name": "#%%\n"
    }
   },
   "outputs": [],
   "source": [
    "# So kann das Modell unser Beispiel verarbeiten.\n",
    "predictions = model(example).numpy().round(2)\n",
    "print(\"Logits:\", predictions)\n",
    "# Du kannst sehen, dass 10 Ausgaben direkt als Wahrscheinlichkeiten interpretierbar sind (Summe == 1).\n",
    "print(\"Summe Logits:\", predictions.sum().round())"
   ]
  },
  {
   "cell_type": "code",
   "execution_count": null,
   "metadata": {
    "colab": {
     "base_uri": "https://localhost:8080/"
    },
    "id": "7hkQ8AU5dBp_",
    "outputId": "f3d90942-0a55-42b7-c44f-b4d9737fdc62",
    "pycharm": {
     "name": "#%%\n"
    }
   },
   "outputs": [],
   "source": [
    "# Wie Du siehst, hat das neuronale Netz noch nichts gelernt.\n",
    "print(\"Beispiel echtes Label:\", y_train[0])\n",
    "print(\"NN geschätztes Label:\", np.argmax(predictions))"
   ]
  }
 ],
 "metadata": {
  "colab": {
   "provenance": []
  },
  "hide_input": false,
  "kernelspec": {
   "display_name": "Python (AI4all_I)",
   "language": "python",
   "name": "python-ai4all_i"
  },
  "language_info": {
   "codemirror_mode": {
    "name": "ipython",
    "version": 3
   },
   "file_extension": ".py",
   "mimetype": "text/x-python",
   "name": "python",
   "nbconvert_exporter": "python",
   "pygments_lexer": "ipython3",
   "version": "3.10.9"
  },
  "toc": {
   "base_numbering": 1,
   "nav_menu": {},
   "number_sections": true,
   "sideBar": true,
   "skip_h1_title": false,
   "title_cell": "Table of Contents",
   "title_sidebar": "Contents",
   "toc_cell": false,
   "toc_position": {},
   "toc_section_display": true,
   "toc_window_display": false
  }
 },
 "nbformat": 4,
 "nbformat_minor": 1
}
