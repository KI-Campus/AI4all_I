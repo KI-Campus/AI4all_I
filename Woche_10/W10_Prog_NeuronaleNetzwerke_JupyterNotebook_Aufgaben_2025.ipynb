{
 "cells": [
  {
   "cell_type": "markdown",
   "id": "a9455fb0552b6e44",
   "metadata": {},
   "source": [
    "### Aufgabe _(Aufbau eines neuronalen Netzes)_\n",
    "\n",
    "Unten wurde ein sequenzielles Feed-Forward-Netz mit zwei Neuronen in der Eingabeschicht, fünf Neuronen in der verborgenen vollständig verbundenen Schicht und zwei Neuronen in der Ausgabeschicht implementiert.\n",
    "\n",
    "Ändere das Programm so ab, dass das Feed-Forward-Netz\n",
    "\n",
    "- vier Neuronen in der Eingabeschicht,\n",
    "- zehn Neuronen in der verborgenen vollständig verbundenen Schicht und\n",
    "- drei Neuronen in der Ausgabeschicht\n",
    "\n",
    "hat."
   ]
  },
  {
   "cell_type": "code",
   "execution_count": null,
   "id": "6540fe5745cefc07",
   "metadata": {},
   "outputs": [],
   "source": [
    "# Führe diese Anweisung vor der Lösung der Aufgaben aus\n",
    "import keras"
   ]
  },
  {
   "cell_type": "code",
   "execution_count": null,
   "id": "d3568fa9d36113ca",
   "metadata": {},
   "outputs": [],
   "source": [
    "model = keras.Sequential()\n",
    "model.add(keras.Input(shape=(2,)))\n",
    "model.add(keras.layers.Dense(units=5, activation=\"relu\"))\n",
    "model.add(keras.layers.Dense(units=2, activation = \"softmax\"))"
   ]
  },
  {
   "cell_type": "markdown",
   "id": "c7033cd6409b1daa",
   "metadata": {},
   "source": [
    "### Aufgabe _(Berechnung der Modellparameter)_\n",
    "\n",
    "Schreibe eine Anweisung, mit deren Hilfe eine detaillierte Beschreibung einzelner Schichten des oberen Modells inklusive ihrer Ausgaben und der Anzahl der trainierbaren Parameter angezeigt wird.\n"
   ]
  },
  {
   "cell_type": "code",
   "execution_count": null,
   "id": "c5c0e18eaa64c63c",
   "metadata": {},
   "outputs": [],
   "source": [
    "# Hier kommt deine Lösung\n"
   ]
  }
 ],
 "metadata": {
  "hide_input": false,
  "kernelspec": {
   "display_name": "Python (AI4all_I)",
   "language": "python",
   "name": "python-ai4all_i"
  },
  "language_info": {
   "codemirror_mode": {
    "name": "ipython",
    "version": 3
   },
   "file_extension": ".py",
   "mimetype": "text/x-python",
   "name": "python",
   "nbconvert_exporter": "python",
   "pygments_lexer": "ipython3",
   "version": "3.10.9"
  },
  "toc": {
   "base_numbering": 1,
   "nav_menu": {},
   "number_sections": true,
   "sideBar": true,
   "skip_h1_title": false,
   "title_cell": "Table of Contents",
   "title_sidebar": "Contents",
   "toc_cell": false,
   "toc_position": {},
   "toc_section_display": true,
   "toc_window_display": false
  }
 },
 "nbformat": 4,
 "nbformat_minor": 5
}
