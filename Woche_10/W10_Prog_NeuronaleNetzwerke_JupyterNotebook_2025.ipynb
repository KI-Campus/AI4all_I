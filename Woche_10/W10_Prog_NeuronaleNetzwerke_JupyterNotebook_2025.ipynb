{
 "cells": [
  {
   "cell_type": "markdown",
   "id": "ca129d0f48535e9c",
   "metadata": {},
   "source": [
    "# Neuronale Netzwerke in Python\n",
    "\n",
    "Dieses Jupyter Notebook zeigt, wie man einen Datensatz für das Trainieren eines künstlichen neuronalen Netzes vorbereitet und wie man ein einfaches Feed-Forward-Netz in Python programmiert."
   ]
  },
  {
   "cell_type": "markdown",
   "id": "4e9c3e65759c899b",
   "metadata": {},
   "source": [
    "## Der Titanic-Datensatz\n",
    "Zuerst werden alle Module importiert, die im Programm benutzt werden."
   ]
  },
  {
   "cell_type": "code",
   "execution_count": null,
   "id": "3380c4de21db8f3",
   "metadata": {},
   "outputs": [],
   "source": [
    "# Importiere die nötigen Module\n",
    "import seaborn as sns\n",
    "import pandas as pd\n",
    "from sklearn import preprocessing\n",
    "from sklearn.model_selection import train_test_split\n",
    "import numpy as np\n",
    "import keras"
   ]
  },
  {
   "cell_type": "markdown",
   "id": "e07879bae3f3fe24",
   "metadata": {},
   "source": [
    "In diesem Jupyter Notebook arbeiten wir mit dem _Titanic_ Datensatz, der Informationen inklusive Überlebensstatus über 891 Passagiere der Titanic enthält. Dieser Datensatz stamm aus einer <a href=\"https://www.kaggle.com/competitions/titanic/overview\"> _Kaggle Challenge_</a> zur Vorhersage des Überlebens der Passagiere. Also besteht unsere Klassifikationsaufgabe darin, anhand der Informationen über die Passagiere ihre Überlebenschance zu bestimmen. Übrigens, die Hauptquelle, aus der die meisten Informationen über die Passagiere der Titanic entnommen wurden, ist die <a href=\"https://www.encyclopedia-titanica.org/\"> _Encyclopedia Titanica_</a>.\n",
    "\n",
    "Wir laden aber zuerst den _Titanic_-Datensatz und speichern ihn in der Variable _titanic_. Dieser Datensatz ist im Modul <a href=\"https://seaborn.pydata.org/\"> _seaborn_</a> enthalten. Der Datensatz wird wie alle Datensätze aus diesem Modul in der Datenstruktur <a href=\"https://pandas.pydata.org/docs/reference/api/pandas.DataFrame.html\"> _DataFrame_</a> gespeichert."
   ]
  },
  {
   "cell_type": "code",
   "execution_count": null,
   "id": "858f8deed39ac159",
   "metadata": {},
   "outputs": [],
   "source": [
    "# Lade den Titanic-Datensatz\n",
    "titanic = sns.load_dataset(\"titanic\")"
   ]
  },
  {
   "cell_type": "markdown",
   "id": "372a45616ed07af9",
   "metadata": {},
   "source": [
    "Mit der Methode _info()_ kann eine kurze Zusammenfassung des DateFrames einschließlich der Merkmalsbezeichnungen ausgegeben werden."
   ]
  },
  {
   "cell_type": "code",
   "execution_count": null,
   "id": "4478a49f32d24a7b",
   "metadata": {},
   "outputs": [],
   "source": [
    "# Gebe eine kurze Zusammenfassung des DataFrames aus\n",
    "print(titanic.info())"
   ]
  },
  {
   "cell_type": "markdown",
   "id": "ef437d9a8aae0e36",
   "metadata": {},
   "source": [
    "Da einige Merkmale ähnliche Informationen über die Passagiere zu enthalten scheinen, lassen wir uns am besten mit der Funktion _head()_ die ersten fünf Zeilen des Datensatzes anzeigen."
   ]
  },
  {
   "cell_type": "code",
   "execution_count": null,
   "id": "c32cfe3bcd28d6db",
   "metadata": {},
   "outputs": [],
   "source": [
    "# Gebe die ersten fünf Zeilen des Datensatzes aus\n",
    "print(titanic.head())"
   ]
  },
  {
   "cell_type": "markdown",
   "id": "50f74bb764fffb6",
   "metadata": {},
   "source": [
    "In der Ausgabe sieht man, dass die Merkmale _survived_ und _alive_ die gleiche Information über den Überlebensstatus der Passagiere enthalten. Im Merkmal _embarked_ sind die Einschiffungshäfen (_embark_town_) in der abgekürzten Form gespeichert. In den beiden Merkmalen _pclass_ und _class_ ist die Passagierklasse einmal als numerischer und einmal als kategorischer Attributwert erfasst und soll über den sozioökonomischen Status der Passagiere Aufschluss geben.\n",
    "\n",
    "Die Bedeutung der Merkmale _sibsp_ und _parch_ kann auf der Internetseite der <a href=\"https://www.kaggle.com/competitions/titanic/overview\"> _Kaggle Challenge_</a> nachgeschaut werden. Dort erfahren wir, dass im Merkmal _sibsp_ die Anzahl der Geschwister bzw. der Ehepartner an Bord erfasst ist. Im Merkmal _parch_ ist die Anzahl der Eltern bzw. die Anzahl der Kinder an Bord der Titanic des jeweiligen Passagiers gespeichert.\n",
    "\n",
    "Auf der Internetseite der <a href=\"https://www.kaggle.com/competitions/titanic/overview\"> _Kaggle Challenge_</a> steht leider nichts über die Bedeutung der Merkmale _who_ und _adult_male_. Während wir die Bedeutung des Merkmals _adult_male_ aus seiner Bezeichnung ableiten können, können uns nur die Einträge des Merkmals _who_ etwas über seine Bedeutung verraten. Mit der Funktion _unique()_ können wir eindeutige Werte des Merkmals who ausgeben lassen."
   ]
  },
  {
   "cell_type": "code",
   "execution_count": null,
   "id": "96a4a60d7710f96d",
   "metadata": {},
   "outputs": [],
   "source": [
    "# Gebe eindeutige Werte des Merkmals 'who' aus\n",
    "print(titanic['who'].unique())"
   ]
  },
  {
   "cell_type": "markdown",
   "id": "b96c87fcd97b0c6c",
   "metadata": {},
   "source": [
    "Laut Ausgabe werden mit Hilfe dieses Merkmals die Passagiere in Kategorien _Mann_, _Frau_ und _Kind_ unterteilt. Da wir das Merkmal _Alter_ wegen fehlender Werte nicht benutzen können, können die Einträge des Merkmals who uns zumindest den Aufschluss über die grobe Altersgruppe der Passagiere geben.\n",
    "\n",
    "Nachdem wir die Bedeutung aller Merkmale geklärt haben, wählen wir für die weitere Analyse nur die Merkmale _Passagierklasse_, _Geschlecht_, _Anzahl der Geschwister bzw. Ehepartner an Bord_, _Anzahl der Eltern bzw. Kinder an Bord_, _Passagiertarif_, _die Altersgruppe_ bzw. das Merkmal _who_ aus und speichern ihre Werte im DataFrame _X_ ab. Zur Überprüfung geben wir danach die ersten fünf Zeilen des neuen DataFrames aus."
   ]
  },
  {
   "cell_type": "code",
   "execution_count": null,
   "id": "422dc0c498b21af9",
   "metadata": {},
   "outputs": [],
   "source": [
    "# Speichere das zweite (Passagierklasse), das dritte (Geschlecht),\n",
    "# das fünfte (Anzahl der Geschwister/Ehepartner an Bord), das sechste (Anzahl der Eltern/Kinder an Bord),\n",
    "# das siebte (Passagiertarif (Britisches Pfund)),\n",
    "# und das zehnte (Mann/Frau/Kind) Merkmal in die Datenmatrix\n",
    "X = titanic[['pclass', 'sex', 'sibsp', 'parch', 'fare', 'who']]\n",
    "print(X.head())"
   ]
  },
  {
   "cell_type": "markdown",
   "id": "d84f9ae39e43a38d",
   "metadata": {},
   "source": [
    "Da wir mit unserem Model die Überlebenschance der Passagiere vorhersagen wollen, ist unser Zielmerkmal der Überlebensstatus. Deswegen speichern wir die Werte des Merkmals _survived_ im DataFrame _y_ ab."
   ]
  },
  {
   "cell_type": "code",
   "execution_count": null,
   "id": "baeae3239af2e41c",
   "metadata": {},
   "outputs": [],
   "source": [
    "# Speichere das erste Merkmal (überlebt) als Zielmerkmal\n",
    "y = titanic[['survived']]\n",
    "print(y.head())"
   ]
  },
  {
   "cell_type": "markdown",
   "id": "9aaf9d22ab7c7439",
   "metadata": {},
   "source": [
    "## One-Hot-Codierung\n",
    "Da neuronale Netzwerke nur numerische Werte direkt verarbeiten können, müssen kategorische Merkmale in unserem Datensatz vorverarbeitet werden. Wir fangen mit dem Merkmal _who_ an. Eigentlich brauchen wir daraus nur die Information darüber, ob sich bei einem Passagier um ein Kind gehandelt hat, denn die Geschlechtszugehörigkeit der erwachsenen Passagiere im Merkmal _sex_ bereits enthalten ist. Deswegen ersetzen wir alle Einträge im Merkmal _who_, wo früher _child_ stand, mit 1 und alle anderen mit 0. Dabei hilft uns die Funktion _where()_ des _NumPy_-Moduls.\n",
    "\n",
    "Auf Grund der Änderung der Einträge macht es Sinn, das Merkmal _who_ umzubenennen. Das erreichen wir mit der Funktion _rename()_ des _Pandas_-Moduls. In der Klammer der Funktion spezifizieren wir, dass wir die Spalte bzw. das Merkmal _who_ in _is_child_ umbenennen."
   ]
  },
  {
   "cell_type": "code",
   "execution_count": null,
   "id": "fe12b96ad52cd5e3",
   "metadata": {},
   "outputs": [],
   "source": [
    "# Damit unterdrücken wir einige Warnungen\n",
    "# (Empfehlung von Pandas)\n",
    "pd.options.mode.copy_on_write = True\n",
    "\n",
    "# Speichere im Merkmal 'who' nur die Information darüber, ob ein Passagier\n",
    "# ein Kind war, und benenne es in 'is_child' um\n",
    "X['who'] = np.where(X['who'] == 'child', 1, 0)\n",
    "X = X.rename(columns={'who': 'is_child'})\n",
    "print(X.head())"
   ]
  },
  {
   "cell_type": "markdown",
   "id": "5392809ee7aff7e3",
   "metadata": {},
   "source": [
    "In unserem Datensatz haben wir noch das Merkmale _sex_, das kategorische Werte enthält. Eine gängige Vorgehensweise kategorische Merkmale in numerische Merkmale umzuwandeln, nennt sich _One-Hot-Codierung_. Bei der One-Hot-Codierung wird für jede Ausprägung eines kategorischen Merkmals ein eigenes Merkmal erstellt, dessen Werte 1 für die Beobachtungen annehmen, für die die Ausprägung des kategorischen Merkmals zutrifft. Für alle anderen Beobachtungen wird 0 im neuen Merkmal gespeichert.\n",
    "\n",
    "In Python lassen sich die kategorischen Merkmale nach der One-Hot-Methode zum Beispiel mit Hilfe der Funktion _get_dummies()_ des _Pandas_-Moduls umwandeln. In der Funktion müssen wir dem Parameter _columns_ die Liste der Merkmale zuweisen, die umcodiert werden sollen. Außerdem können wir mit Hilfe des Parameters _dtype_ den Datentyp der Einträge der neuen Merkmale festlegen."
   ]
  },
  {
   "cell_type": "code",
   "execution_count": null,
   "id": "9a795c6388d53fb2",
   "metadata": {},
   "outputs": [],
   "source": [
    "X = pd.get_dummies(X, columns=['sex'], dtype=float)\n",
    "print(X.head())"
   ]
  },
  {
   "cell_type": "markdown",
   "id": "db822ecf1bc30f5e",
   "metadata": {},
   "source": [
    "Neben dem Merkmal _sex_ müssen wir noch unser Zielmerkmal _survived_ gemäß der One-Hot-Codierung umwandeln, weil das künstliche neuronale Netz für jede Klasse _überlebt_ bzw. _nicht überlebt_ jeweils eine Vorhersage berechnen wird. Dafür nutzen wir wieder die Funktion _get_dummies()_."
   ]
  },
  {
   "cell_type": "code",
   "execution_count": null,
   "id": "bdc8cc967a32a478",
   "metadata": {},
   "outputs": [],
   "source": [
    "y = pd.get_dummies(y, columns=['survived'], dtype=float)\n",
    "print(y.head())"
   ]
  },
  {
   "cell_type": "markdown",
   "id": "3811b82ad0aeda4",
   "metadata": {},
   "source": [
    "## Datennormalisierung\n",
    "Ein weiterer üblicher Schritt bei der Vorbereitung der Daten ist die Normalisierung. Bei der _Normalisierung_ handelt es sich um eine Methode, bei der die Werte numerischer Merkmale so geändert werden, dass sie die gleiche Größenordnung haben. Meistens werden die Merkmalswerte auf das Intervall zwischen 0 und 1 normalisiert. Wir normalisieren unseren Datensatz mit Hilfe der Funktion <a href=\"https://scikit-learn.org/stable/modules/generated/sklearn.preprocessing.minmax_scale.html\"> _minmax_scale()_</a> des _Scikit-learn_-Untermoduls _Preprocessing and Normalization_. Um die originalen Werte des DataFrames nicht zu überschreiben, speichern wir den normalisierten Datensatz im _ndarray_ _X_normalized_ ab."
   ]
  },
  {
   "cell_type": "code",
   "execution_count": null,
   "id": "f1452f8f55cee521",
   "metadata": {},
   "outputs": [],
   "source": [
    "# Normalisiere die Merkmalswerte auf den Bereich [0,1]\n",
    "X_normalized = preprocessing.minmax_scale(X)\n",
    "print(X_normalized[:1,:])"
   ]
  },
  {
   "cell_type": "markdown",
   "id": "5dee19ae537b4cca",
   "metadata": {},
   "source": [
    "Wie bei allen Klassifikationsaufgaben muss der Datensatz vor dem Training eines Klassifikationsmodells in eine Trainings- und eine Testmenge zerlegt werden. Dafür benutzen wir die Funktion <a href=\"https://scikit-learn.org/stable/modules/generated/sklearn.model_selection.train_test_split.html\"> _train_test_split()_</a> des Untermoduls _Model Selection_ von _Scikit-learn_."
   ]
  },
  {
   "cell_type": "code",
   "execution_count": null,
   "id": "d4596323528d64f3",
   "metadata": {},
   "outputs": [],
   "source": [
    "# Teile den Datensatz in die Trainings- und die Testmenge auf\n",
    "X_train, X_test, y_train, y_test = train_test_split(\n",
    "    X_normalized, y, test_size=0.15, random_state=61)"
   ]
  },
  {
   "cell_type": "markdown",
   "id": "dddfefdecad8c1c2",
   "metadata": {},
   "source": [
    "## Aufbau eines neuronalen Netzes\n",
    "In Python können künstliche neuronale Netze mit Hilfe des Moduls <a href=\"https://keras.io/\"> _Keras_</a> schnell und einfach aufgebaut, trainiert und ausgewertet werden. Für die Vorhersage des Überlebens der Passagiere der Titanic implementieren wir ein sequenzielles Feed-Forward-Netz mit sieben Neuronen in der Eingabeschicht, die den sieben Merkmalen unseres Datensatzes entsprechen. Diese verknüpfen wir mit einer vollständig verbundenen Schicht mit 15 Neuronen. Die Ausgabeschicht unseres Netzes enthält zwei Neuronen, die zwei Klassen _überlebt_ und _nicht überlebt_ entsprechen.\n",
    "\n",
    "Zuerst erzeugen wir ein sequentielles Modell mit dem Befehl _keras.Sequential()_. Wir fügen unserem Modell die _Input-Schicht_ mit der Funktion _add()_ hinzu. Da es sich um die erste Schicht im Netz handelt, müssen wir die Größe der Eingabe dem Parameter _shape_ zuweisen. Nun fügen wir unserem Modell eine verborgene vollständig verbundene bzw. _dense Schicht_ hinzu. Durch die Zuweisung des Parameters _units_ legen wir fest, dass die vollständig verbundene Schicht 15 Neuronen enthalten soll. Außerdem können wir mit Hilfe des Parameters _activation_ die Aktivierungsfunktion festlegen. Hierfür verwenden wir die _ReLU_-Funktion. Schließlich ergänzen wir unser Modell mit der vollständig verbundenen _Ausgabeschicht_ mit zwei Neuronen, eins pro Klasse. Hier verwenden wir die Aktivierungsfunktion _softmax_, deren Vorteil darin besteht, dass ihre Ausgabe sich als Wahrscheinlichkeiten interpretieren lassen, zu bestimmten Klasse zu gehören."
   ]
  },
  {
   "cell_type": "code",
   "execution_count": null,
   "id": "6a5fd8c600f29506",
   "metadata": {},
   "outputs": [],
   "source": [
    "model = keras.Sequential()\n",
    "model.add(keras.Input(shape=(X_normalized.shape[1],)))\n",
    "model.add(keras.layers.Dense(units=15, activation=\"relu\"))\n",
    "model.add(keras.layers.Dense(2, activation = \"softmax\"))"
   ]
  },
  {
   "cell_type": "markdown",
   "id": "53c0315acb2b02c6",
   "metadata": {},
   "source": [
    "## Berechnung der Modellparameter\n",
    "Nachdem wir das künstliche neuronale Netz implementiert haben, können wir mit der Methode _summary()_ die Zusammenfassung des Modells anzeigen lassen. In der Ausgabe kannst du eine detaillierte Beschreibung einzelner Schichten des Modells inklusive ihrer Ausgaben und der Anzahl der trainierbaren Parameter sehen."
   ]
  },
  {
   "cell_type": "code",
   "execution_count": null,
   "id": "5f34ad0dab1d8fe9",
   "metadata": {},
   "outputs": [],
   "source": [
    "model.summary()"
   ]
  }
 ],
 "metadata": {
  "hide_input": false,
  "kernelspec": {
   "display_name": "Python (AI4all_I)",
   "language": "python",
   "name": "python-ai4all_i"
  },
  "language_info": {
   "codemirror_mode": {
    "name": "ipython",
    "version": 3
   },
   "file_extension": ".py",
   "mimetype": "text/x-python",
   "name": "python",
   "nbconvert_exporter": "python",
   "pygments_lexer": "ipython3",
   "version": "3.10.9"
  },
  "toc": {
   "base_numbering": 1,
   "nav_menu": {},
   "number_sections": true,
   "sideBar": true,
   "skip_h1_title": false,
   "title_cell": "Table of Contents",
   "title_sidebar": "Contents",
   "toc_cell": false,
   "toc_position": {},
   "toc_section_display": true,
   "toc_window_display": false
  }
 },
 "nbformat": 4,
 "nbformat_minor": 5
}
