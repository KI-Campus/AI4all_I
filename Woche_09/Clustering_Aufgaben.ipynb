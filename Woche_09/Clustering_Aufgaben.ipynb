{
 "cells": [
  {
   "cell_type": "markdown",
   "metadata": {
    "pycharm": {
     "name": "#%% md\n"
    }
   },
   "source": [
    "# Datensatz\n",
    "\n",
    "Das <a href=\"https://archive.ics.uci.edu/ml/datasets/Wine\">_Wine Recognition Dataset_</a> enthält die Ergebnisse einer chemischen Analyse von 178 Weinen von drei verschiedenen Rebsorten. Bei der Analyse wurden die Mengen von 13 Inhaltsstoffen wie z.B. Alkohol, Apfelsäure und Magnesium bestimmt, die in den Weinen dieser drei Sorten enthalten sind. Die Merkmalswerte im Datensatz repräsentieren die in den Weinen gemessenen Inhaltsstoffmengen.\n",
    "\n",
    "Der _Wine Recognition_ Datensatz wird mit der Funktion <a href=\"https://scikit-learn.org/stable/modules/generated/sklearn.datasets.load_wine.html\">_load\\_wine()_</a> geladen. Für die weitere Analyse werden nur die Merkmale _Farbtiefe_, _Flavonoidgehalt_ und _Prolingehalt_ ausgewählt. Die Rebsorte der Wine wird in das Zielarray _y\\_wine_ gespeichert."
   ]
  },
  {
   "cell_type": "code",
   "execution_count": null,
   "metadata": {
    "pycharm": {
     "name": "#%%\n"
    }
   },
   "outputs": [],
   "source": [
    "# Bitte den folgenden Programmcode vor der Bearbeitung der Aufgaben ausführen\n",
    "\n",
    "# Importiere die nötigen Module\n",
    "from sklearn import cluster, preprocessing, datasets\n",
    "import numpy as np\n",
    "import plotly.express as px\n",
    "import plotly.offline as pyo\n",
    "import plotly.graph_objects as go\n",
    "\n",
    "# Lade den Wine Datensatz\n",
    "X_wine, y_wine = datasets.load_wine(return_X_y=True)\n",
    "\n",
    "# Wähle nur die Merkmale Farbtiefe, Flavonoidgehalt und Prolingehalt aus\n",
    "X_wine = X_wine[:,[6, 9, 12]]"
   ]
  },
  {
   "cell_type": "markdown",
   "metadata": {
    "pycharm": {
     "name": "#%% md\n"
    }
   },
   "source": [
    "# Aufgabe (_Normalisierung des Datensatzes_)\n",
    "\n",
    "In dieser Aufgabe arbeitest du mit dem  _Wine Recognition Dataset_.\n",
    "\n",
    "1. Berechne die Spannweiten der Werte einzelner Merkmale des Datensatzes und gebe diese mit der Funktion _print()_ aus.\n",
    "2. Normalisiere die Werte jedes Merkmals im _Wine Recognition_ Datensatz auf den Bereich \\[0, 1\\] und speichere den normalisierten Datensatz im _NumPy_-Array _X\\_normalized_ ab.\n",
    "\n",
    "Ergänze deine Anweisungen mit sinnvollen Kommentaren."
   ]
  },
  {
   "cell_type": "code",
   "execution_count": null,
   "metadata": {
    "pycharm": {
     "name": "#%%\n"
    }
   },
   "outputs": [],
   "source": [
    "# Hier kommt deine Lösung für die Teilaufgabe 1\n",
    "\n",
    "\n",
    "\n",
    "# Hier kommt deine Lösung für die Teilaufgabe 2\n",
    "\n",
    "\n"
   ]
  },
  {
   "cell_type": "markdown",
   "metadata": {
    "pycharm": {
     "name": "#%% md\n"
    }
   },
   "source": [
    "# Aufgabe (_k-means Clustering_)\n",
    "\n",
    "In dieser Aufgabe arbeitest du mit dem  _Wine Recognition Dataset_.\n",
    "\n",
    "1. Erstelle ein Clustering-Modell für drei Cluster. Dabei sollen die Mittelwerte bzw. die Zentren der Cluster am Anfang mit zufällig aus dem Datensatz ausgewählten Beobachtungen initialisiert werden.\n",
    "2. Berechne das Clustering für den normalisierten _Wine Recognition_ Datensatz.\n",
    "\n",
    "Ergänze deine Anweisungen mit sinnvollen Kommentaren.\n",
    "\n",
    "(_Hinweis_: Du kannst die Beobachtungen der Testmenge in einem 3-dimensionalen Diagramm wie im Video grafisch darstellen. Die entsprechenden Anweisungen findest du in der zweiten Code-Zelle zu dieser Aufgabe. Entferne vor der Ausführung des Programmcodes die umschließenden Kommentarzeichen.)"
   ]
  },
  {
   "cell_type": "code",
   "execution_count": null,
   "metadata": {
    "pycharm": {
     "name": "#%%\n"
    }
   },
   "outputs": [],
   "source": [
    "# Hier kommt deine Lösung für die Teilaufgabe 1\n",
    "\n",
    "\n",
    "\n",
    "# Hier kommt deine Lösung für die Teilaufgabe 2\n",
    "\n",
    "\n"
   ]
  },
  {
   "cell_type": "code",
   "execution_count": null,
   "metadata": {
    "pycharm": {
     "name": "#%%\n"
    }
   },
   "outputs": [],
   "source": [
    "\"\"\"\n",
    "# Visualisiere die tatsächliche Klassenzugehörigkeit der\n",
    "# Beobachtungen als Kreis und die von k-means berechnete\n",
    "# Clusterzugehörigkeit als Kreuz\n",
    "pyo.init_notebook_mode()\n",
    "fig1 = px.scatter_3d(x=X_normalized[:,0], y=X_normalized[:,1], z=X_normalized[:,2],\n",
    "                     color=y_wine.astype(str), opacity=0.8,\n",
    "                     symbol_sequence=[\"circle\"])\n",
    "fig2 = px.scatter_3d(x=X_normalized[:, 0], y=X_normalized[:, 1], z=X_normalized[:, 2],\n",
    "                     color=k_means.labels_.astype(str),\n",
    "                     symbol_sequence=[\"cross\"])\n",
    "fig3 = go.Figure(data=fig1.data + fig2.data)\n",
    "fig3.show()\n",
    "\"\"\""
   ]
  }
 ],
 "metadata": {
  "hide_input": false,
  "kernelspec": {
   "display_name": "Python (AI4all_I)",
   "language": "python",
   "name": "python-ai4all_i"
  },
  "language_info": {
   "codemirror_mode": {
    "name": "ipython",
    "version": 3
   },
   "file_extension": ".py",
   "mimetype": "text/x-python",
   "name": "python",
   "nbconvert_exporter": "python",
   "pygments_lexer": "ipython3",
   "version": "3.10.9"
  },
  "toc": {
   "base_numbering": 1,
   "nav_menu": {},
   "number_sections": true,
   "sideBar": true,
   "skip_h1_title": false,
   "title_cell": "Table of Contents",
   "title_sidebar": "Contents",
   "toc_cell": false,
   "toc_position": {},
   "toc_section_display": true,
   "toc_window_display": false
  }
 },
 "nbformat": 4,
 "nbformat_minor": 1
}
