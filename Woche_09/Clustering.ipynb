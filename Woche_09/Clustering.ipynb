{
 "cells": [
  {
   "cell_type": "markdown",
   "metadata": {
    "pycharm": {
     "name": "#%% md\n"
    }
   },
   "source": [
    "# _k_-means Clustering mit Scikit-learn\n",
    "\n",
    "Bei unüberwachten Machine Learning Verfahren geht es darum, die Struktur der Daten zu erforschen und nach unbekannten Mustern zu suchen, um sinnvolle und nützliche Informationen daraus zu extrahieren. Eins der am häufigsten benutzten unüberwachten Datenanalyseverfahren ist _Clustering_, dessen Ziel ist es, ähnliche Beobachtungen in Gruppen bzw. _Cluster_ einzuteilen."
   ]
  },
  {
   "cell_type": "markdown",
   "metadata": {
    "pycharm": {
     "name": "#%% md\n"
    }
   },
   "source": [
    "## Vorbereitung des Datensatzes\n",
    "\n",
    "Der _k-means_ Clustering-Algorithmus gehört zu den sogenannten _partitionierenden_ Verfahren. Das bedeutet, dass er jede Beobachtung eines Datensatzes einem der Cluster zuteilt. Da beim Clustering noch keine Informationen über die Struktur der Daten zur Verfügung stehen – denn diese sollen durch das Clustering herausgefunden werden – kann man nach der Aufteilung des Datensatzes in Cluster erstmal nicht sagen, ob die Zerlegung auf irgendeine Weise sinnvoll oder nützlich ist. Um das Prinzip und mögliche Schwierigkeiten von Clustering zu verdeutlichen, verwenden wir im Folgenden einen Datensatz, bei dem die Beobachtungen bereits bestimmten Klassen zugeordnet wurden. Nach der Aufteilung des Datensatzes mit dem _k-means_ Clustering-Algorithmus können die Zuordnung der Beobachtungen zu den Clustern mit den originalen Klassenlabels verglichen werden, um bewerten zu können, ob die gefundenen Cluster sinnvoll sind.\n",
    "\n",
    "Zuerst aber müssen alle Module importiert werden, die im Programm gebraucht werden."
   ]
  },
  {
   "cell_type": "code",
   "execution_count": null,
   "metadata": {
    "pycharm": {
     "name": "#%%\n"
    }
   },
   "outputs": [],
   "source": [
    "# Importiere die nötigen Module\n",
    "from sklearn import cluster, preprocessing\n",
    "import seaborn as sns\n",
    "import numpy as np\n",
    "import plotly.express as px\n",
    "import plotly.offline as pyo\n",
    "import plotly.graph_objects as go"
   ]
  },
  {
   "cell_type": "markdown",
   "metadata": {
    "pycharm": {
     "name": "#%% md\n"
    }
   },
   "source": [
    "Im Folgenden arbeiten wir mit dem <a href=\"https://allisonhorst.github.io/palmerpenguins/\">_Palmer Archipelago (Antarctica) Penguin_</a> Datensatz. Dieser Datensatz enthält Informationen über 344 Pinguine, die auf drei Inseln des Palmer-Archipels in der Antarktis beheimatet sind. Die Merkmale bzw. Features des Datensatzes enthalten verschiedene Messdaten, die über die Pinguine gesammelt wurden, wie Länge und Höhe des Schnabels, Länge der Flosse und die Körpermasse bzw. das Gewicht. Außerdem enthält das Merkmal _species_ die Pingiunart der Pinguine. Dabei gehören die Beobachtungen bzw. die Pinguine im Datensatz zu einer der drei Arten, _Adelie_, _Chinstrap_ (deutsch:  Zügelpinguin) und _Gentoo_ (deutsch: Eselspinguin)."
   ]
  },
  {
   "cell_type": "code",
   "execution_count": null,
   "metadata": {
    "pycharm": {
     "name": "#%%\n"
    }
   },
   "outputs": [],
   "source": [
    "# Lade den Palmer Archipelago (Antarctica) Penguin Datensatz\n",
    "penguins = sns.load_dataset(\"penguins\")\n",
    "\n",
    "# Wandle das DataFrame in ein NumPy-Array um\n",
    "penguins_arr = penguins.to_numpy()"
   ]
  },
  {
   "cell_type": "markdown",
   "metadata": {
    "pycharm": {
     "name": "#%% md\n"
    }
   },
   "source": [
    "Der Datensatz wird in eine Struktur _DataFrame_ geladen und in ein _NumPy_-Array mit der Funktion <a href=\"https://pandas.pydata.org/docs/reference/api/pandas.DataFrame.to_numpy.html\">_to_numpy()_</a> umgewandelt. Für die weitere Analyse werden nur die Merkmale _Schnabellänge_, _Schnabelhöhe_, _Flossenlänge_ und _Körpermasse_ in die Datenmatrix und die entsprechende Pinguinart in das Zielarray gespeichert."
   ]
  },
  {
   "cell_type": "code",
   "execution_count": null,
   "metadata": {
    "pycharm": {
     "name": "#%%\n"
    }
   },
   "outputs": [],
   "source": [
    "# Speichere das dritte (Schnabellänge), das vierte (Schnabelhöhe),\n",
    "# das fünfte (Flossenlänge) und das sechste (Körpermasse)\n",
    "# Merkmal in der Datenmatrix\n",
    "X_raw = np.array(penguins_arr[:,2:6]).astype(float)\n",
    "\n",
    "# Speichere das erste Merkmal als Zielmerkmal\n",
    "y_raw = penguins_arr[:,0]"
   ]
  },
  {
   "cell_type": "markdown",
   "metadata": {
    "pycharm": {
     "name": "#%% md\n"
    }
   },
   "source": [
    "Da zwei Beobachtungen fehlende Werte enthalten, werden diese aus dem Datensatz entfernt. So verbleiben noch 342 Beobachtungen im Datensatz."
   ]
  },
  {
   "cell_type": "code",
   "execution_count": null,
   "metadata": {
    "pycharm": {
     "name": "#%%\n"
    }
   },
   "outputs": [],
   "source": [
    "# Lösche alle Zeilen aus der Datenmatrix, die\n",
    "# fehlende Wert enthalten\n",
    "X = X_raw[~np.isnan(X_raw).any(axis=1)]\n",
    "y = y_raw[~np.isnan(X_raw).any(axis=1)]"
   ]
  },
  {
   "cell_type": "markdown",
   "metadata": {
    "pycharm": {
     "name": "#%% md\n"
    }
   },
   "source": [
    "Die Beobachtungen werden durch ihre Werte für die Schnabellänge, die Schnabelhöhe und die Flossenlänge in einem 3-dimensionalen Diagramm dargestellt. Die Zugehörigkeit zur Pinguinart wird durch unterschiedliche Farben der Datenpunkte markiert."
   ]
  },
  {
   "cell_type": "code",
   "execution_count": null,
   "metadata": {
    "pycharm": {
     "name": "#%%\n"
    }
   },
   "outputs": [],
   "source": [
    "pyo.init_notebook_mode()\n",
    "fig_orig = px.scatter_3d(x=X[:,0], y=X[:,1], z=X[:,2], color=y)\n",
    "fig_orig.show()"
   ]
  },
  {
   "cell_type": "markdown",
   "metadata": {
    "pycharm": {
     "name": "#%% md\n"
    }
   },
   "source": [
    "Es wird davon ausgegangen, dass die Zuordnung der Pinguine zu unterschiedlichen Pinguinarten nicht bekannt ist und diese noch erforscht werden muss. Also werden die Beobachtungen in einem 3-dimensionalen Diagramm grafisch dargestellt, ohne die Klassenzugehörigkeit kenntlich zu machen."
   ]
  },
  {
   "cell_type": "code",
   "execution_count": null,
   "metadata": {
    "pycharm": {
     "name": "#%%\n"
    }
   },
   "outputs": [],
   "source": [
    "fig1 = px.scatter_3d(x=X[:,0], y=X[:,1], z=X[:,2])\n",
    "fig1.show()"
   ]
  },
  {
   "cell_type": "markdown",
   "metadata": {
    "pycharm": {
     "name": "#%% md\n"
    }
   },
   "source": [
    "## _k-means_ Clustering-Algorithmus\n",
    "\n",
    "Der _k-means_ Clustering-Algorithmus teilt alle Beobachtungen eines Datensatzes in _k_ Cluster auf. Die Anzahl der Cluster ist in der Regel vorher nicht bekannt. Für den Pinguin-Datensatz wird aber k = 3 angenommen.\n",
    "\n",
    "Ein _k-means_ Clustering-Modell wird mit der Funktion <a href=\"https://scikit-learn.org/stable/modules/generated/sklearn.cluster.KMeans.html\">_KMeans()_</a> des _Scikit-learn_-Untermoduls <a href=\"https://scikit-learn.org/stable/modules/classes.html#module-sklearn.cluster\">_Clustering_</a> erstellt.\n",
    "* Mit dem Parameter _n\\_clusters_ wird die Anzahl der Cluster festgelegt, in die die Beobachtungen eines Datensatzes zerlegt werden.\n",
    "* In der Regel werden die Mittelwerte bzw. Zentren der Cluster am Anfang mit zufällig aus dem Datensatz ausgewählten Beobachtungen initialisiert. In den Voreinstellungen der Funktion _KMeans()_ ist aber eine andere ausgeklügeltere, aber aufwändigere Initialisierungsmethode festgelegt. Durch die Zuweisung des Wertes _random_ für den Parameter _init_ wird sichergestellt, dass die _k_ zufällig aus dem Datensatz ausgewählten Beobachtungen als anfängliche Clustermittelwerte fungieren.\n",
    "* Der Parameter _random\\_state_ bestimmt die entsprechende Zufallszahlengenerierung für die Wahl der anfänglichen Clusterzentren. Um die Reproduzierbarkeit der Clusteringergebnisse zu garantieren, soll diesem Parameter ein Wert zugewiesen werden.\n",
    "* Mit dem Parameter _n\\_init_ wird die Anzahl der Durchläufe des _k-means_ Algorithmus mit jeweils unterschiedlichen zufällig ausgewählten Start-Clusterzentren bestimmt. Das heißt, dass der _k-means_ Algorithmus mehrere Male mit jeweils unterschiedlichen anfänglichen Clusterzentren gestartet wird. Als Ergebnis wird die Aufteilung der Beobachtungen in die Cluster ausgegeben, bei der die Beobachtungen am nächsten an den Zentren ihrer Cluster liegen.\n",
    "\n",
    "Die Funktion _KMeans()_ hat auch weitere Parameter, mit denen das Clustering-Modell exakter spezifiziert werden kann. Nähere Informationen zu diesen sind in der <a href=\"https://scikit-learn.org/stable/modules/classes.html\">API Refernce</a> von Scikit-learn zu finden.\n",
    "\n",
    "Mit der Funktion _fit()_ wird die Aufteilung der Beobachtungen des Datensatzes in Cluster mit dem erstellten Clustering-Modell berechnet."
   ]
  },
  {
   "cell_type": "code",
   "execution_count": null,
   "metadata": {
    "pycharm": {
     "name": "#%%\n"
    }
   },
   "outputs": [],
   "source": [
    "# Erstelle das Clustering-Modell für k = 3\n",
    "k_means = cluster.KMeans(n_clusters=3, init=\"random\",\n",
    "                         random_state=42, n_init=10)\n",
    "\n",
    "# Berechne das Clustering für den Datensatz X\n",
    "k_means.fit(X)"
   ]
  },
  {
   "cell_type": "markdown",
   "metadata": {
    "pycharm": {
     "name": "#%% md\n"
    }
   },
   "source": [
    "Die Aufteilung der Beobachtungen in Cluster wird in einem 3-dimensionalen Diagramm dargestellt. Dafür werden wieder nur die ersten drei Merkmale, die Schnabellänge, die Schnabelhöhe und die Flossenlänge, verwendet. Die Clusterzuweisungen der Beobachtungen werden durch unterschiedliche Farben markiert. Dabei werden die Labels bzw. die Clusterzuweisungen der Beobachtungen mit der Anweisung _labels\\__ ausgegeben. Da die Clusterlabels mit ganzen Zahlen angegeben werden, werden diese in Zeichenketten umgewandelt, damit sie als kategoriale Merkmalswerte von der _scatter()_-Funktion wahrgenommen werden."
   ]
  },
  {
   "cell_type": "code",
   "execution_count": null,
   "metadata": {
    "pycharm": {
     "name": "#%%\n"
    }
   },
   "outputs": [],
   "source": [
    "# Plotte das Clusteringergebnis\n",
    "fig2 = px.scatter_3d(x=X[:,0], y=X[:,1], z=X[:,2],\n",
    "                     color=k_means.labels_.astype(str))\n",
    "fig2.show()"
   ]
  },
  {
   "cell_type": "markdown",
   "metadata": {
    "pycharm": {
     "name": "#%% md\n"
    }
   },
   "source": [
    "Die Beobachtungen werden anhand der Merkmale Schnabellänge, Schnabelhöhe und Gewicht dargestellt."
   ]
  },
  {
   "cell_type": "code",
   "execution_count": null,
   "metadata": {
    "pycharm": {
     "name": "#%%\n"
    }
   },
   "outputs": [],
   "source": [
    "# Plotte das Clusteringergebnis\n",
    "fig3 = px.scatter_3d(x=X[:,0], y=X[:,1], z=X[:,3],\n",
    "                     color=k_means.labels_.astype(str))\n",
    "fig3.show()"
   ]
  },
  {
   "cell_type": "markdown",
   "metadata": {
    "pycharm": {
     "name": "#%% md\n"
    }
   },
   "source": [
    "Die Spannweiten der Werte einzelner Merkmale bzw. Features des Datensatzes werden berechnet."
   ]
  },
  {
   "cell_type": "code",
   "execution_count": null,
   "metadata": {
    "pycharm": {
     "name": "#%%\n"
    }
   },
   "outputs": [],
   "source": [
    "# Gebe die Spannweiten der Werte einzelner\n",
    "# Merkmale des Datensatzes aus\n",
    "print(np.max(X, axis=0)-np.min(X, axis=0))"
   ]
  },
  {
   "cell_type": "markdown",
   "metadata": {
    "pycharm": {
     "name": "#%% md\n"
    }
   },
   "source": [
    "Um allen Merkmalen die gleiche Bedeutung bei der Distanzberechnung zuzuweisen, sollten die Werte aller Merkmale vor dem Clustering am besten normalisiert werden. Bei der _Normalisierung_ handelt es sich um eine Methode, bei der die Werte numerischer Merkmale bzw. Features so geändert werden, dass sie die gleiche Größenordnung haben. Dabei sollten die Unterschiede in den Wertebereichen nicht verzerrt werden. Meistens werden die Merkmalswerte auf das Intervall [0, 1] normalisiert.\n",
    "\n",
    "Das _Scikit-learn_-Untermodul <a href=\"https://scikit-learn.org/stable/modules/classes.html#module-sklearn.preprocessing\">_Preprocessing and Normalization_</a> bietet eine Funktion namens <a href=\"https://scikit-learn.org/stable/modules/generated/sklearn.preprocessing.minmax_scale.html\">_minmax_scale()_</a> an, mit deren Hilfe die Werte jedes Merkmals im Datensatz auf einen vorgegebenen Bereich normalisiert werden können. In der Voreinstellung der Funktion ist der Wertebereich [0, 1] festgelegt."
   ]
  },
  {
   "cell_type": "code",
   "execution_count": null,
   "metadata": {
    "pycharm": {
     "name": "#%%\n"
    }
   },
   "outputs": [],
   "source": [
    "# Normalisiere die Merkmalswerte auf den Bereich [0,1]\n",
    "X_normalized = preprocessing.minmax_scale(X)"
   ]
  },
  {
   "cell_type": "markdown",
   "metadata": {
    "pycharm": {
     "name": "#%% md\n"
    }
   },
   "source": [
    "Die Spannweiten der Werte einzelner Merkmale bzw. Features des normalisierten Datensatzes werden berechnet."
   ]
  },
  {
   "cell_type": "code",
   "execution_count": null,
   "metadata": {
    "pycharm": {
     "name": "#%%\n"
    }
   },
   "outputs": [],
   "source": [
    "# Gebe die Spannweite der normalisierten Werte einzelner\n",
    "# Merkmale des Datensatzes aus\n",
    "print(np.max(X_normalized, axis=0)-np.min(X_normalized, axis=0))"
   ]
  },
  {
   "cell_type": "markdown",
   "metadata": {
    "pycharm": {
     "name": "#%% md\n"
    }
   },
   "source": [
    "Die Aufteilung der Beobachtungen des normalisierten Datensatzes in Cluster wird mit dem oben erstellten Clustering-Modell berechnet."
   ]
  },
  {
   "cell_type": "code",
   "execution_count": null,
   "metadata": {
    "pycharm": {
     "name": "#%%\n"
    }
   },
   "outputs": [],
   "source": [
    "# Berechne das Clustering für\n",
    "# den Datensatz X_normalized\n",
    "k_means.fit(X_normalized)"
   ]
  },
  {
   "cell_type": "markdown",
   "metadata": {
    "pycharm": {
     "name": "#%% md\n"
    }
   },
   "source": [
    "Die Aufteilung der Beobachtungen in Cluster wird in einem 3-dimensionalen Diagramm dargestellt. Dafür werden die ersten drei Merkmale, die Schnabellänge, die Schnabelhöhe und die Flossenlänge verwendet. Die Clusterzuweisungen der Beobachtungen werden durch unterschiedliche Farben markiert. Dabei werden die tatsächlichen Klassen der Beobachtungen durch Kreise und die von _k-means_ Algorithmus berechneten Clusterzuweisungen durch Kreuze dargestellt."
   ]
  },
  {
   "cell_type": "code",
   "execution_count": null,
   "metadata": {
    "pycharm": {
     "name": "#%%\n"
    }
   },
   "outputs": [],
   "source": [
    "# Visualisiere die tatsächliche Klassenzugehörigkeit der\n",
    "# Beobachtungen als Kreis und die von k-means berechnete\n",
    "# Clusterzugehörigkeit als Kreuz\n",
    "fig4 = px.scatter_3d(x=X[:,0], y=X[:,1], z=X[:,2],\n",
    "                     color=y, opacity=0.8,\n",
    "                     symbol_sequence=[\"circle\"])\n",
    "fig5 = px.scatter_3d(x=X[:, 0], y=X[:, 1], z=X[:, 2],\n",
    "                     color=k_means.labels_.astype(str),\n",
    "                     symbol_sequence=[\"cross\"])\n",
    "fig6 = go.Figure(data=fig4.data + fig5.data)\n",
    "fig6.show()"
   ]
  }
 ],
 "metadata": {
  "hide_input": false,
  "kernelspec": {
   "display_name": "Python (AI4all_I)",
   "language": "python",
   "name": "python-ai4all_i"
  },
  "language_info": {
   "codemirror_mode": {
    "name": "ipython",
    "version": 3
   },
   "file_extension": ".py",
   "mimetype": "text/x-python",
   "name": "python",
   "nbconvert_exporter": "python",
   "pygments_lexer": "ipython3",
   "version": "3.10.9"
  },
  "toc": {
   "base_numbering": 1,
   "nav_menu": {},
   "number_sections": true,
   "sideBar": true,
   "skip_h1_title": false,
   "title_cell": "Table of Contents",
   "title_sidebar": "Contents",
   "toc_cell": false,
   "toc_position": {},
   "toc_section_display": true,
   "toc_window_display": false
  }
 },
 "nbformat": 4,
 "nbformat_minor": 1
}
