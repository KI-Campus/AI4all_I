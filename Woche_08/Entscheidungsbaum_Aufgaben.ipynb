{
 "cells": [
  {
   "cell_type": "markdown",
   "metadata": {
    "pycharm": {
     "name": "#%% md\n"
    }
   },
   "source": [
    "# Datensatz\n",
    "\n",
    "Der <a href=\"https://allisonhorst.github.io/palmerpenguins/\">_Palmer Archipelago (Antarctica) Penguin_</a> Datensatz enthält Informationen über 344 Pinguine, die auf drei Inseln des Palmer-Archipels in der Antarktis beheimatet sind. Die Merkmale des Datensatzes enthalten verschiedene Messdaten, die über die Pinguine gesammelt wurden, und das Zielmerkmal beschreibt die entsprechende Pinguinart. Dabei gehören die Beobachtungen bzw. die Pinguine im Datensatz zu einer der drei Arten, _Adelie_, _Chinstrap_ und _Gentoo_.\n",
    "\n",
    "Der Datensatz wird geladen und in ein _NumPy_-Array umgewandelt. Für die weitere Analyse werden nur die Merkmale _Schnabellänge_, _Schnabelhöhe_, _Flossenlänge_ und _Körpermasse_ in die Datenmatrix _X\\_raw_ und die entsprechende Pinguinart in das Zielarray _y\\_raw_ gespeichert. Da zwei Beobachtungen fehlende Werte enthalten, werden diese aus dem Datensatz entfernt. So verbleiben noch 342 Beobachtungen im Datensatz.\n",
    "\n",
    "Der Datensatz wird in eine Trainings- und eine Testmenge aufgeteilt, wobei die Testmenge 10 % aller Beobachtungen enthält."
   ]
  },
  {
   "cell_type": "code",
   "execution_count": null,
   "metadata": {
    "pycharm": {
     "name": "#%%\n"
    }
   },
   "outputs": [],
   "source": [
    "# Bitte den folgenden Programmcode vor Bearbeitung der Aufgaben ausführen\n",
    "\n",
    "# Importiere die nötigen Module\n",
    "import seaborn as sns\n",
    "import numpy as np\n",
    "import plotly.express as px\n",
    "import plotly.offline as pyo\n",
    "import plotly.graph_objects as go\n",
    "from sklearn.model_selection import train_test_split\n",
    "from sklearn.metrics import accuracy_score\n",
    "from sklearn import tree, ensemble\n",
    "\n",
    "# Lade den Palmer Archipelago (Antarctica) Penguin Datensatz\n",
    "penguins = sns.load_dataset(\"penguins\")\n",
    "\n",
    "# Wandle das DataFrame in ein NumPy-Array um\n",
    "penguins_arr = penguins.to_numpy()\n",
    "\n",
    "# Speichere das dritte (Schnabellänge), das vierte (Schnabelhöhe),\n",
    "# das fünfte (Flossenlänge) und das sechste (Körpermasse)\n",
    "# Merkmal in die Datenmatrix\n",
    "X_raw = np.array(penguins_arr[:,2:6]).astype(float)\n",
    "\n",
    "# Speichere das erste Merkmal als Zielmerkmal\n",
    "y_raw = penguins_arr[:,0]\n",
    "\n",
    "# Lösche alle Zeilen aus der Datenmatrix, die\n",
    "# fehlende Wert enthalten\n",
    "X = X_raw[~np.isnan(X_raw).any(axis=1)]\n",
    "y = y_raw[~np.isnan(X_raw).any(axis=1)]\n",
    "\n",
    "# Teile den Datensatz in die Trainings- und die Testmenge auf\n",
    "X_train, X_test, y_train, y_test = train_test_split(\n",
    "    X, y, test_size=0.1, random_state=45)"
   ]
  },
  {
   "cell_type": "markdown",
   "metadata": {
    "pycharm": {
     "name": "#%% md\n"
    }
   },
   "source": [
    "# Aufgabe (_Entscheidungsbaumklassifikation_)\n",
    "\n",
    "In dieser Aufgabe arbeitest du mit dem _Palmer Archipelago (Antarctica) Penguin_ Datensatz.\n",
    "\n",
    "1. Erstelle ein Entscheidungsbaummodell mit der maximalen Baumtiefe von 3.\n",
    "2. Trainiere dein Entscheidungsbaummodell mit der Trainingsmenge.\n",
    "3. Stelle den resultierenden Entscheidungsbaum grafisch dar.\n",
    "4. Prognostiziere mit dem trainierten Entscheidungsbaummodell die Pinguinart für alle Beobachtungen aus der Testmenge.\n",
    "5. Berechne die _Accuracy_ für dein Entscheidungsbaummodell anhand der tatsächlichen und der prognostizierten Klassen für die Beobachtungen der Testmenge und gebe ihren Wert mit der _print()_-Funktion aus.\n",
    "\n",
    "Ergänze deine Anweisungen mit sinnvollen Kommentaren.\n",
    "\n",
    "(_Hinweis_: Du kannst die Beobachtungen der Testmenge in einem 3-dimensionalen Diagramm wie im Video grafisch darstellen. Die entsprechenden Anweisungen findest du in der zweiten Code-Zelle zu dieser Aufgabe. Beachte dabei, dass die prognostizierten Klassen für die Beobachtungen der Testmenge im Array _y\\_pred\\_dt_ gespeichert werden sollen. Entferne vor der Ausführung des Programmcodes die umschließenden Kommentarzeichen.)"
   ]
  },
  {
   "cell_type": "code",
   "execution_count": null,
   "metadata": {
    "pycharm": {
     "name": "#%%\n"
    }
   },
   "outputs": [],
   "source": [
    "# Hier kommt deine Lösung für die Teilaufgabe 1\n",
    "\n",
    "\n",
    "\n",
    "# Hier kommt deine Lösung für die Teilaufgabe 2\n",
    "\n",
    "\n",
    "\n",
    "# Hier kommt deine Lösung für die Teilaufgabe 3\n",
    "\n",
    "\n",
    "\n",
    "# Hier kommt deine Lösung für die Teilaufgabe 4\n",
    "\n",
    "\n",
    "\n",
    "# Hier kommt deine Lösung für die Teilaufgabe 5\n",
    "\n",
    "\n"
   ]
  },
  {
   "cell_type": "code",
   "execution_count": null,
   "metadata": {
    "pycharm": {
     "name": "#%%\n"
    }
   },
   "outputs": [],
   "source": [
    "\"\"\"\n",
    "# Visualisiere die tatsächliche Zugehörigkeit als Diamant\n",
    "# und die geschätzte als Kreuz\n",
    "pyo.init_notebook_mode()\n",
    "fig0 = px.scatter_3d(x=X_test[:,0], y=X_test[:,1], z=X_test[:,2],\n",
    "                     color=y_test.astype(str), opacity=0.8,\n",
    "                     symbol_sequence=[\"diamond\"])\n",
    "fig1 = px.scatter_3d(x=X_test[:,0], y=X_test[:,1], z=X_test[:,2],\n",
    "                     color=y_pred_dt.astype(str),\n",
    "                     symbol_sequence=[\"cross\"])\n",
    "fig2 = go.Figure(data=fig0.data + fig1.data)\n",
    "fig2.show()\n",
    "\"\"\""
   ]
  },
  {
   "cell_type": "markdown",
   "metadata": {
    "pycharm": {
     "name": "#%% md\n"
    }
   },
   "source": [
    "# Aufgabe (_Random Forest-Klassifikation_)\n",
    "\n",
    "In dieser Aufgabe arbeitest du mit dem _Palmer Archipelago (Antarctica) Penguin_ Datensatz.\n",
    "\n",
    "1. Erstelle ein Random Forest-Modell und trainiere es mit der Trainingsmenge.\n",
    "2. Speichere die Gewichte der Merkmale deines Random Forest-Modells im Array _importances_ und gebe diese mit der _print()_-Funktion aus.\n",
    "3. Prognostiziere mit dem trainierten Random Forest-Modell die Pinguinart für alle Beobachtungen aus der Testmenge.\n",
    "5. Berechne die _Accuracy_ für dein Random Forest-Modell anhand der tatsächlichen und der prognostizierten Klassen für die Beobachtungen der Testmenge und gebe ihren Wert mit der _print()_-Funktion aus.\n",
    "\n",
    "Ergänze deine Anweisungen mit sinnvollen Kommentaren.\n",
    "\n",
    "(_Hinweis_: Du kannst die Beobachtungen der Testmenge in einem 3-dimensionalen Diagramm wie im Video grafisch darstellen. Die entsprechenden Anweisungen findest du in der zweiten Code-Zelle zu dieser Aufgabe. Beachte dabei, dass die prognostizierten Klassen für die Beobachtungen der Testmenge im Array _y\\_pred\\_rf_ gespeichert werden sollen. Entferne vor der Ausführung des Programmcodes die umschließenden Kommentarzeichen.)"
   ]
  },
  {
   "cell_type": "code",
   "execution_count": null,
   "metadata": {
    "pycharm": {
     "name": "#%%\n"
    }
   },
   "outputs": [],
   "source": [
    "# Hier kommt deine Lösung für die Teilaufgabe 1\n",
    "\n",
    "\n",
    "\n",
    "\n",
    "# Hier kommt deine Lösung für die Teilaufgabe 2\n",
    "\n",
    "\n",
    "\n",
    "\n",
    "# Hier kommt deine Lösung für die Teilaufgabe 3\n",
    "\n",
    "\n",
    "\n",
    "\n",
    "# Hier kommt deine Lösung für die Teilaufgabe 4\n",
    "\n",
    "\n",
    "\n"
   ]
  },
  {
   "cell_type": "code",
   "execution_count": null,
   "metadata": {
    "pycharm": {
     "name": "#%%\n"
    }
   },
   "outputs": [],
   "source": [
    "\"\"\"\n",
    "# Visualisiere die tatsächliche Zugehörigkeit als Diamant\n",
    "# und die geschätzte als Kreuz\n",
    "pyo.init_notebook_mode()\n",
    "fig3 = px.scatter_3d(x=X_test[:,0], y=X_test[:,1], z=X_test[:,2],\n",
    "                     color=y_test.astype(str), opacity=0.8,\n",
    "                     symbol_sequence=[\"diamond\"])\n",
    "fig4 = px.scatter_3d(x=X_test[:,0], y=X_test[:,1], z=X_test[:,2],\n",
    "                     color=y_pred_rf.astype(str),\n",
    "                     symbol_sequence=[\"cross\"])\n",
    "fig5 = go.Figure(data=fig3.data + fig4.data)\n",
    "fig5.show()\n",
    "\"\"\""
   ]
  }
 ],
 "metadata": {
  "hide_input": false,
  "kernelspec": {
   "display_name": "Python (AI4all_I)",
   "language": "python",
   "name": "python-ai4all_i"
  },
  "language_info": {
   "codemirror_mode": {
    "name": "ipython",
    "version": 3
   },
   "file_extension": ".py",
   "mimetype": "text/x-python",
   "name": "python",
   "nbconvert_exporter": "python",
   "pygments_lexer": "ipython3",
   "version": "3.10.9"
  },
  "toc": {
   "base_numbering": 1,
   "nav_menu": {},
   "number_sections": true,
   "sideBar": true,
   "skip_h1_title": false,
   "title_cell": "Table of Contents",
   "title_sidebar": "Contents",
   "toc_cell": false,
   "toc_position": {},
   "toc_section_display": true,
   "toc_window_display": false
  }
 },
 "nbformat": 4,
 "nbformat_minor": 1
}
