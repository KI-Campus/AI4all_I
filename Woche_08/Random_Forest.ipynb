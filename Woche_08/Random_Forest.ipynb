{
 "cells": [
  {
   "cell_type": "markdown",
   "metadata": {
    "pycharm": {
     "name": "#%% md\n"
    }
   },
   "source": [
    "# Random Forest-Klassifikation mit Scikit-learn\n",
    "\n",
    "Man kann sich einen Random Forest als eine Vielzahl von Entscheidungsbäumen vorstellen, die anhand verschiedener Teilmengen der Trainingsdaten trainiert werden. Dabei werden beim Training einzelner Entscheidungsbäume nur einige Merkmale berücksichtigt, die zufällig ausgewählt werden. Die Klassenzuweisung für neue Beobachtungen erfolgt durch eine Mehrheitsentscheidung über die Vorhersagen einzelner Bäume."
   ]
  },
  {
   "cell_type": "markdown",
   "metadata": {
    "pycharm": {
     "name": "#%% md\n"
    }
   },
   "source": [
    "## Vorbereitung des Datensatzes\n",
    "\n",
    "Im Folgenden arbeiten wir mit dem <a href=\"https://archive.ics.uci.edu/ml/datasets/Wine\">_Wine Recognition Dataset_</a>, das Ergebnisse einer chemischen Analyse von 178 Weinen von drei verschiedenen Rebsorten enthält. Die Merkmalswerte im Datensatz repräsentieren die in den Weinen gemessenen Inhaltsstoffmengen. Die Klassifikationsaufgabe bei diesem Datensatz besteht darin, anhand der Inhaltsstoffe eines Weins seine Rebsorte zu bestimmen.\n",
    "\n",
    "Zuerst werden alle benötigten Module in das Programm importiert."
   ]
  },
  {
   "cell_type": "code",
   "execution_count": null,
   "metadata": {
    "pycharm": {
     "name": "#%%\n"
    }
   },
   "outputs": [],
   "source": [
    "# Lade die nötigen Module\n",
    "from sklearn import ensemble, datasets\n",
    "from sklearn.model_selection import train_test_split\n",
    "from sklearn.metrics import accuracy_score\n",
    "import plotly.express as px\n",
    "import plotly.graph_objects as go"
   ]
  },
  {
   "cell_type": "markdown",
   "metadata": {
    "pycharm": {
     "name": "#%% md\n"
    }
   },
   "source": [
    "Der _Wine_-Datensatz wird mit der Funktion <a href=\"https://scikit-learn.org/stable/modules/generated/sklearn.datasets.load_wine.html\">_load\\_wine()_</a> geladen und in eine Trainings- und eine Testmenge mit der Funktion <a href=\"https://scikit-learn.org/stable/modules/generated/sklearn.model_selection.train_test_split.html\">_train\\_test\\_split()_</a> zerlegt."
   ]
  },
  {
   "cell_type": "code",
   "execution_count": null,
   "metadata": {
    "pycharm": {
     "name": "#%%\n"
    }
   },
   "outputs": [],
   "source": [
    "# Lade den Wine Datensatz\n",
    "X_wine, y_wine = datasets.load_wine(return_X_y=True)\n",
    "\n",
    "# Teile den Datesatz in die Trainings- und die Testmenge auf\n",
    "X_train, X_test, y_train, y_test = train_test_split(\n",
    "    X_wine, y_wine, test_size=0.1, random_state=45)"
   ]
  },
  {
   "cell_type": "markdown",
   "metadata": {
    "pycharm": {
     "name": "#%% md\n"
    }
   },
   "source": [
    "## Random Forest-Modell\n",
    "\n",
    "Ein Random Forest-Modell wird mit der Funktion <a href=\"https://scikit-learn.org/stable/modules/generated/sklearn.ensemble.RandomForestClassifier.html\">_RandomForestClassifier()_</a> des _Scikit-learn_-Untermoduls <a href=\"https://scikit-learn.org/stable/modules/classes.html#module-sklearn.ensemble\">_Ensemble Methods_</a> erstellt. Das Random Forest-Modell kann durch viele Parameter der Funktion vorbestimmt werden. Im Folgenden werden nur die Wichtigsten von ihnen beschrieben.\n",
    "* Die Anzahl der Entscheidungsbäume im Random Forest wird durch den Parameter _n\\_estimators_ in der Funktion <a href=\"https://scikit-learn.org/stable/modules/generated/sklearn.ensemble.RandomForestClassifier.html\">_RandomForestClassifier()_</a> festgelegt. Dieser Parameter ist mit 100 voreingestellt.\n",
    "* Der Parameter _bootstrap_ nimmt darauf Einfluss, ob die einzelnen Entscheidungsbäume auf der Basis der Teilmengen oder der gesamten Trainingsmenge erstellt werden. In der Voreinstellung ist festgelegt, dass die Bäume auf der Grundlage verschiedener Teilmengen der Trainingsdaten erstellt werden.\n",
    "* Der Parameter _random\\_state_ regelt nicht nur die Wahl der Teilmengen für den Aufbau der Entscheidungsbäume, sondern steuert auch die Wahl der Merkmale bzw. Features für die Aufspaltung der inneren Knoten im Baum. Die Zuweisung einer ganzen Zahl für den Parameter _random\\_state_ führt zu denselben Ergebnissen bei verschiedenen Aufrufen der Funktion <a href=\"https://scikit-learn.org/stable/modules/generated/sklearn.ensemble.RandomForestClassifier.html\">_RandomForestClassifier()_</a>. Die beliebten zufälligen Zahlen für den Parameter _random\\_state_ sind 0 und 42.\n",
    "\n",
    "Das Anpassen des Random Forest-Modells an die Trainingsdaten erfolgt mit der Funktion _fit()_."
   ]
  },
  {
   "cell_type": "code",
   "execution_count": null,
   "metadata": {
    "pycharm": {
     "name": "#%%\n"
    }
   },
   "outputs": [],
   "source": [
    "# Erstelle das Random Forest-Modell\n",
    "rf_classifier = ensemble.RandomForestClassifier(random_state=42)\n",
    "\n",
    "# Trainiere das Modell mit der Trainingsmenge\n",
    "rf_classifier.fit(X_train, y_train)"
   ]
  },
  {
   "cell_type": "markdown",
   "metadata": {
    "pycharm": {
     "name": "#%% md\n"
    }
   },
   "source": [
    "Mit der Funktion _predict()_ werden die Vorhersagen für alle Beobachtungen der Testmenge getroffen."
   ]
  },
  {
   "cell_type": "code",
   "execution_count": null,
   "metadata": {
    "pycharm": {
     "name": "#%%\n"
    }
   },
   "outputs": [],
   "source": [
    "# Erstelle die Vorhersage für die Testmenge\n",
    "y_pred = rf_classifier.predict(X_test)"
   ]
  },
  {
   "cell_type": "markdown",
   "metadata": {
    "pycharm": {
     "name": "#%% md\n"
    }
   },
   "source": [
    "Das Random Forest-Modell lässt sich zwar nicht so einfach interpretieren wie ein Entscheidungsbaummodell, man kann jedoch mit der Anweisung _feature\\_importances\\__ die Gewichte der einzelnen Merkmale bzw. Features ausgeben lassen. Diese Gewichte sind maßgebend dafür, wie viel ein Merkmal zur Verringerung der Verunreinigung der Klassen beiträgt. Je höher der Wert ist, desto wichtiger ist das entsprechende Merkmal für die Bestimmung der Klassenzugehörigkeit der Beobachtungen."
   ]
  },
  {
   "cell_type": "code",
   "execution_count": null,
   "metadata": {
    "pycharm": {
     "name": "#%%\n"
    }
   },
   "outputs": [],
   "source": [
    "# Speichere die Gewichte der Merkmale im\n",
    "# Array \"importances\" und gebe diese aus\n",
    "importances = rf_classifier.feature_importances_\n",
    "print(importances)"
   ]
  },
  {
   "cell_type": "markdown",
   "metadata": {
    "pycharm": {
     "name": "#%% md\n"
    }
   },
   "source": [
    "Mit der Funktion <a href=\"https://scikit-learn.org/stable/modules/generated/sklearn.metrics.accuracy_score.html\">_accuracy\\_score()_</a> des Untermoduls <a href=\"https://scikit-learn.org/stable/modules/classes.html#module-sklearn.metrics\">_Metrics_</a> von _Scikit-learn_ wird die _Accuracy_ für das Random Forest-Modell anhand der tatsächlichen und prognostizierten Klassen für Beobachtungen der Testmenge berechnet."
   ]
  },
  {
   "cell_type": "code",
   "execution_count": null,
   "metadata": {
    "pycharm": {
     "name": "#%%\n"
    }
   },
   "outputs": [],
   "source": [
    "# Berechne die Accuracy\n",
    "accuracy = accuracy_score(y_test, y_pred)\n",
    "print(accuracy)"
   ]
  },
  {
   "cell_type": "markdown",
   "metadata": {
    "pycharm": {
     "name": "#%% md\n"
    }
   },
   "source": [
    "In einem 3-dimensionalen Diagramm werden die Beobachtungen der Testmenge grafisch dargestellt. Dafür werden nur die Merkmale - die Farbtiefe, der Flavonoidgehalt und der Prolingehalt - verwendet. Die Rebsorten der Beobachtungen werden durch unterschiedliche Farben markiert. Dabei werden durch die Diamanten die tatsächlichen und durch Kreuze die geschätzten Klassen der Beobachtungen abgebildet."
   ]
  },
  {
   "cell_type": "code",
   "execution_count": null,
   "metadata": {
    "pycharm": {
     "name": "#%%\n"
    }
   },
   "outputs": [],
   "source": [
    "# Visualisiere die tatsächliche Zugehörigkeit als Diamant\n",
    "# und die geschätzte als Kreuz\n",
    "fig3 = px.scatter_3d(x=X_test[:,9], y=X_test[:,6], z=X_test[:,12],\n",
    "                     color=y_test.astype(str), opacity=0.8, symbol_sequence=[\"diamond\"])\n",
    "fig4 = px.scatter_3d(x=X_test[:,9], y=X_test[:,6], z=X_test[:,12],\n",
    "                     color=y_pred.astype(str), symbol_sequence=[\"cross\"])\n",
    "fig5 = go.Figure(data=fig3.data + fig4.data)\n",
    "fig5.show()"
   ]
  }
 ],
 "metadata": {
  "hide_input": false,
  "kernelspec": {
   "display_name": "Python (AI4all_I)",
   "language": "python",
   "name": "python-ai4all_i"
  },
  "language_info": {
   "codemirror_mode": {
    "name": "ipython",
    "version": 3
   },
   "file_extension": ".py",
   "mimetype": "text/x-python",
   "name": "python",
   "nbconvert_exporter": "python",
   "pygments_lexer": "ipython3",
   "version": "3.10.9"
  },
  "toc": {
   "base_numbering": 1,
   "nav_menu": {},
   "number_sections": true,
   "sideBar": true,
   "skip_h1_title": false,
   "title_cell": "Table of Contents",
   "title_sidebar": "Contents",
   "toc_cell": false,
   "toc_position": {},
   "toc_section_display": true,
   "toc_window_display": false
  }
 },
 "nbformat": 4,
 "nbformat_minor": 1
}
