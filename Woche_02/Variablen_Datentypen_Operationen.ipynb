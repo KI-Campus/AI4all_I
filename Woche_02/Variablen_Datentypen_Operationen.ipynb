{
 "cells": [
  {
   "cell_type": "markdown",
   "metadata": {},
   "source": [
    "# Variablen, Datentypen und Operationen"
   ]
  },
  {
   "cell_type": "markdown",
   "metadata": {},
   "source": [
    "## Variablen\n",
    "\n",
    "Beim Programmieren wählt man sprechende Variablennamen, damit man die Bedeutung der Variablen beim Lesen des Programmcodes leichter verstehen kann.\n",
    "\n",
    "In Python können die Variablennamen aus Buchstaben, Zahlen, Sonderzeichen, Umlauten und nichtlateinischen Buchstaben bestehen. Einzige Einschränkung: am Anfang des Variablennamens darf keine Zahl stehen.\n",
    "\n",
    "In der Praxis haben sich Variablennamen etabliert, die ausschließlich aus kleinen Buchstaben, Zahlen und Unterstrichen bestehen.\n",
    "\n",
    "Aufgepasst: In Pyhton wird zwischen Groß- und Kleinschreibung unterschieden, d.h. variable und Variable sind zwei verschiedene Variablen."
   ]
  },
  {
   "cell_type": "markdown",
   "metadata": {},
   "source": [
    "###  Variablenzuweisung\n",
    "\n",
    "In Python werden die Werte den Variablen mit einem Gleichheitszeichen (\"=\") zugewiesen. Die Variablenwerte können zum Beispiel Zahlen, Buchstaben, Wörter, Sätze oder auch Bilder sein."
   ]
  },
  {
   "cell_type": "code",
   "execution_count": null,
   "metadata": {},
   "outputs": [],
   "source": [
    "# In Python werden Texte in Anführungszeichen geschrieben\n",
    "text = \"Taschenrechner\"\n",
    "\n",
    "zahl = 100"
   ]
  },
  {
   "cell_type": "markdown",
   "metadata": {},
   "source": [
    "Um den Wert einer Variable in Python ausgeben zu lassen, kann man den _print()_-Befehl verwenden."
   ]
  },
  {
   "cell_type": "code",
   "execution_count": null,
   "metadata": {},
   "outputs": [],
   "source": [
    "print(text)\n",
    "\n",
    "print(zahl)"
   ]
  },
  {
   "cell_type": "markdown",
   "metadata": {},
   "source": [
    "Achtung: Setze den Variablennamen nicht in die Anführungszeichen innerhalb des _print()_-Befehls, sonst wird der Variablenname und nicht deren Wert ausgegeben."
   ]
  },
  {
   "cell_type": "code",
   "execution_count": null,
   "metadata": {},
   "outputs": [],
   "source": [
    "print(\"zahl\")"
   ]
  },
  {
   "cell_type": "markdown",
   "metadata": {},
   "source": [
    "Wenn man Werte mehrerer Variablen im Programm auf einmal ausgibt, ist es praktisch in der Ausgabe vor jedem Variablenwert den entsprechenden Variablennamen mit auszugeben."
   ]
  },
  {
   "cell_type": "code",
   "execution_count": null,
   "metadata": {},
   "outputs": [],
   "source": [
    "print(\"Wert der Variablen text: \", text)\n",
    "\n",
    "print(\"Wert der Variablen zahl: \", zahl)"
   ]
  },
  {
   "cell_type": "markdown",
   "metadata": {},
   "source": [
    "## Datentypen\n",
    "\n",
    "Neben den Variablenwerten kann man mit dem _print()_-Befehl auch die Variablentypen ausgeben. Dafür wird der Befehl _type()_ verwendet."
   ]
  },
  {
   "cell_type": "code",
   "execution_count": null,
   "metadata": {},
   "outputs": [],
   "source": [
    "print(\"Datentyp der Variable zahl: \", type(zahl))"
   ]
  },
  {
   "cell_type": "markdown",
   "metadata": {},
   "source": [
    "\"int\" ist eine Abkürzung für \"integer\" und bedeutet \"ganze Zahl\". Also ist der Wert der Variable zahl eine ganze Zahl."
   ]
  },
  {
   "cell_type": "markdown",
   "metadata": {},
   "source": [
    "Neben der ganzen Zahl gibt es noch Dezimal- oder Fließkommazahl als Datentyp in Python. Dieser wird als \"float\" abgekürzt und bedeutet \"floating-point number\"."
   ]
  },
  {
   "cell_type": "code",
   "execution_count": null,
   "metadata": {},
   "outputs": [],
   "source": [
    "zahl_2 = 2.5\n",
    "\n",
    "print(\"Datentyp der Variable zahl_2: \", type(zahl_2))"
   ]
  },
  {
   "cell_type": "markdown",
   "metadata": {},
   "source": [
    "Ein weiterer gängiger Datentyp in Python ist String bzw. Zeichenkette. Zeichenketten werden mit \"str\" abgekürzt und bestehen aus einer Abfolge von Buchstaben, Ziffern, Sonderzeichen und können sich zu Wörtern, Sätzen und ganzen Texten zusammensetzen."
   ]
  },
  {
   "cell_type": "code",
   "execution_count": null,
   "metadata": {},
   "outputs": [],
   "source": [
    "print(\"Datentyp der Variable text: \", type(text))"
   ]
  },
  {
   "cell_type": "markdown",
   "metadata": {},
   "source": [
    "Zeichenketten können aus Ziffern bestehen, auch eine einzelne Ziffer kann als eine Zeichenkette bzw. ein String gespeichert werden. Dafür muss die Zahl in Anführungszeichen gesetzt werden."
   ]
  },
  {
   "cell_type": "code",
   "execution_count": null,
   "metadata": {},
   "outputs": [],
   "source": [
    "text_2 = \"100\"\n",
    "\n",
    "print(\"Wert der Variablen text_2: \", text_2)\n",
    "\n",
    "print(\"Datentyp der Variable text_2: \", type(text_2))"
   ]
  },
  {
   "cell_type": "markdown",
   "metadata": {},
   "source": [
    "### Datentypumwandlung\n",
    "\n",
    "Man kann im Programmverlauf den Datentyp eines Variablenwertes explizit ändern. Dazu bietet Python den Befehl _int()_ für die Integerumwandlung, den Befehl _float()_ für die Fließkommazahlumwandlung und den Befehl _str()_ für die Umwandlung in eine Zeichenkette an.\n",
    "\n",
    "Beachte: Bei der Umwandlung einer Fließkommazahl in eine ganze Zahl werden die Nachkommastellen abgeschnitten, selbst wenn diese ungleich Null sind."
   ]
  },
  {
   "cell_type": "code",
   "execution_count": null,
   "metadata": {},
   "outputs": [],
   "source": [
    "# Die String-Variable text_2 wird in eine Fließkommazahl umgewandelt.\n",
    "text_2 = float(text_2)\n",
    "\n",
    "# Gebe den Datentyp und den Variablenwert aus.\n",
    "print(\"Datentyp der Variable text_2: \", type(text_2))\n",
    "print(\"Wert der Variablen text_2: \", text_2)"
   ]
  },
  {
   "cell_type": "code",
   "execution_count": null,
   "metadata": {},
   "outputs": [],
   "source": [
    "# Die Float-Variable text_2 wird in eine Ganzzahl umgewandelt.\n",
    "text_2 = int(text_2)\n",
    "\n",
    "# Gebe den Datentyp und den Variablenwert aus.\n",
    "print(\"Datentyp der Variable text_2: \", type(text_2))\n",
    "print(\"Wert der Variablen text_2: \", text_2)"
   ]
  },
  {
   "cell_type": "code",
   "execution_count": null,
   "metadata": {},
   "outputs": [],
   "source": [
    "# Die Integer-Variable text_2 wird in eine Zeichenkette umgewandelt.\n",
    "text_2 = str(text_2)\n",
    "\n",
    "# Gebe den Datentyp und den Variablenwert aus.\n",
    "print(\"Datentyp der Variable text_2: \", type(text_2))\n",
    "print(\"Wert der Variablen text_2: \", text_2)"
   ]
  },
  {
   "cell_type": "markdown",
   "metadata": {},
   "source": [
    "## Operationen\n",
    "\n",
    "Die Werte der Variablen können sich im Laufe des Programms durch verschiedene Operationen ändern. Dies kann zum Beispiel eine Neuzuweisung sein."
   ]
  },
  {
   "cell_type": "code",
   "execution_count": null,
   "metadata": {},
   "outputs": [],
   "source": [
    "zahl = 10\n",
    "\n",
    "print(\"Wert der Variablen zahl: \", zahl)"
   ]
  },
  {
   "cell_type": "markdown",
   "metadata": {},
   "source": [
    "### Rechenoperationen auf Zahlen\n",
    "\n",
    "Die Variablenwerte können sich auch durch Rechenoperationen ändern. Python verfügt über eine Vielzahl von arithmetischen Operationen."
   ]
  },
  {
   "cell_type": "markdown",
   "metadata": {},
   "source": [
    "Der _Additionsoperator_ berechnet die Summe von Zahlen. Dieser wird in Python mit einem \"+\"-Zeichen dargestellt."
   ]
  },
  {
   "cell_type": "code",
   "execution_count": null,
   "metadata": {},
   "outputs": [],
   "source": [
    "# Weise der Variable zahl die Summe zweier Zahlen zu.\n",
    "zahl = 10 + 10\n",
    "\n",
    "print(\"Wert der Variablen zahl: \", zahl)"
   ]
  },
  {
   "cell_type": "markdown",
   "metadata": {},
   "source": [
    "Man kann zu dem Wert einer Variablen eine Zahl hinzuaddieren. Das geht, indem man einen Operanden durch den Namen der entsprechenden Variablen ersetzt."
   ]
  },
  {
   "cell_type": "code",
   "execution_count": null,
   "metadata": {},
   "outputs": [],
   "source": [
    "# Addiere 10 zu dem Wert der Variablen zahl und\n",
    "# speichere das Ergebnis in zahl ab.\n",
    "zahl = zahl + 10\n",
    "\n",
    "print(\"Wert der Variablen zahl: \", zahl)"
   ]
  },
  {
   "cell_type": "markdown",
   "metadata": {},
   "source": [
    "Natürlich kann man in Python auch subtrahieren, nämlich mit dem Subtraktionsoperator -, und multiplizieren, nämlich mit dem Multiplikationsoperator *."
   ]
  },
  {
   "cell_type": "markdown",
   "metadata": {},
   "source": [
    "Der _Divisionsoperator_ wird mit einem Schrägstrich (\"/\") in Python dargestellt."
   ]
  },
  {
   "cell_type": "code",
   "execution_count": null,
   "metadata": {},
   "outputs": [],
   "source": [
    "# Teile den Wert der Variable zahl durch 2 und\n",
    "# speichere das Ergebnis in einer neuen Variable zahl_2 ab.\n",
    "zahl_2 = zahl / 2\n",
    "\n",
    "print(\"Wert der Variablen zahl: \", zahl)\n",
    "print(\"Wert der Variablen zahl_2: \", zahl_2)"
   ]
  },
  {
   "cell_type": "markdown",
   "metadata": {},
   "source": [
    "In Python ist das Ergebnis einer Division immer eine Dezimalzahl, selbst wenn im Ergebnis eigentlich eine ganze Zahl rauskommt. Wenn man möchte, dass im Ergebnis eine ganze Zahl steht, muss man entweder zusätzlich eine Typumwandlung oder eine Ganzzahldivision statt einfacher Division durchführen. Die Ganzzahldivision lernst du in der Übung kennen."
   ]
  },
  {
   "cell_type": "markdown",
   "metadata": {},
   "source": [
    "### Operationen auf Zeichenketten\n",
    "\n",
    "Neben den arithmetischen Operatoren verfügt Python über eine Vielzahl von Operatoren auf Zeichenketten. Dabei haben einige Operatoren die gleiche Darstellung, produzieren aber unterschiedliche Ergebnisse auf Zahlen und Zeichenketten. Im Folgenden werden die wichtigsten aufgelistet."
   ]
  },
  {
   "cell_type": "markdown",
   "metadata": {},
   "source": [
    "Der \"+\"-Operator heißt auf Zeichenketten _Verkettungsoperator_ und bewirkt die Hintereinanderschaltung bzw. Verkettung von Zeichenketten."
   ]
  },
  {
   "cell_type": "code",
   "execution_count": null,
   "metadata": {},
   "outputs": [],
   "source": [
    "text_1 = \"Hallo\"\n",
    "text_2 = \"zusammen\"\n",
    "text_3 = text_1 + text_2\n",
    "print(text_3)"
   ]
  },
  {
   "cell_type": "markdown",
   "metadata": {},
   "source": [
    "Wenn man zwischen den Worten ein Leerzeichen und am Ende ein Ausrufezeichen schreiben möchte, kann man diese bei der Verknüpfung zwischen den beiden Variablen bzw. am Ende schalten."
   ]
  },
  {
   "cell_type": "code",
   "execution_count": null,
   "metadata": {},
   "outputs": [],
   "source": [
    "# Hier überschreiben wir den Inhalt der Variable text_3.\n",
    "text_3 = text_1 + \" \" + text_2 + \"!\"\n",
    "print(text_3)"
   ]
  },
  {
   "cell_type": "markdown",
   "metadata": {},
   "source": [
    "Die Zahlen, die als Zeichenketten gespeichert werden, werden wie Zeichenketten miteinander verknüpft. Also werden diese nicht addiert, sondern verkettet."
   ]
  },
  {
   "cell_type": "code",
   "execution_count": null,
   "metadata": {},
   "outputs": [],
   "source": [
    "text_4 = \"20\"\n",
    "text_5 = \"23\"\n",
    "text_6 = text_4 + text_5\n",
    "print(text_6)"
   ]
  },
  {
   "cell_type": "markdown",
   "metadata": {},
   "source": [
    "Bei der Verknüpfung von einer Zeichenkette mit einer Zahl durch den \"+\"-Operator kommt es wegen des Datentypkonflikts zu einer Fehlermeldung."
   ]
  },
  {
   "cell_type": "code",
   "execution_count": null,
   "metadata": {},
   "outputs": [],
   "source": [
    "text_x = text_6 + 1\n",
    "print(text_x)"
   ]
  }
 ],
 "metadata": {
  "hide_input": false,
  "kernelspec": {
   "display_name": "Python (AI4all_I)",
   "language": "python",
   "name": "python-ai4all_i"
  },
  "language_info": {
   "codemirror_mode": {
    "name": "ipython",
    "version": 3
   },
   "file_extension": ".py",
   "mimetype": "text/x-python",
   "name": "python",
   "nbconvert_exporter": "python",
   "pygments_lexer": "ipython3",
   "version": "3.10.9"
  },
  "toc": {
   "base_numbering": 1,
   "nav_menu": {},
   "number_sections": true,
   "sideBar": true,
   "skip_h1_title": false,
   "title_cell": "Table of Contents",
   "title_sidebar": "Contents",
   "toc_cell": false,
   "toc_position": {},
   "toc_section_display": true,
   "toc_window_display": false
  }
 },
 "nbformat": 4,
 "nbformat_minor": 1
}
